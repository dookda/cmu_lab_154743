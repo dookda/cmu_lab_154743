{
 "cells": [
  {
   "cell_type": "code",
   "execution_count": 31,
   "metadata": {},
   "outputs": [],
   "source": [
    "car = {\n",
    "    \"brand name\": \"Toyota\",\n",
    "    \"model\": \"vios\",\n",
    "    \"year\": 2010,\n",
    "    \"cc\": 1000.50,\n",
    "}"
   ]
  },
  {
   "cell_type": "code",
   "execution_count": 13,
   "metadata": {},
   "outputs": [
    {
     "name": "stdout",
     "output_type": "stream",
     "text": [
      "Toyota\n"
     ]
    }
   ],
   "source": [
    "print(car[\"brand name\"])"
   ]
  },
  {
   "cell_type": "code",
   "execution_count": 32,
   "metadata": {},
   "outputs": [
    {
     "name": "stdout",
     "output_type": "stream",
     "text": [
      "{'brand name': 'Toyota', 'model': 'vios', 'year': 2010, 'cc': 1000.5, 'wheel': 4}\n"
     ]
    }
   ],
   "source": [
    "car[\"wheel\"] = 4\n",
    "car.update({\"wheel\": 4})\n",
    "\n",
    "print(car)"
   ]
  },
  {
   "cell_type": "code",
   "execution_count": 27,
   "metadata": {},
   "outputs": [
    {
     "name": "stdout",
     "output_type": "stream",
     "text": [
      "Toyota vios\n"
     ]
    }
   ],
   "source": [
    "# car.pop(12)\n",
    "# car.popitem()\n",
    "print(car[\"brand name\"], car[\"model\"])"
   ]
  },
  {
   "cell_type": "code",
   "execution_count": 39,
   "metadata": {},
   "outputs": [
    {
     "name": "stdout",
     "output_type": "stream",
     "text": [
      "brand name Toyota\n",
      "model vios\n",
      "year 2010\n",
      "cc 1000.5\n",
      "wheel 4\n"
     ]
    }
   ],
   "source": [
    "for k,v  in car.items():\n",
    "    print(k,v)"
   ]
  },
  {
   "cell_type": "code",
   "execution_count": 48,
   "metadata": {},
   "outputs": [
    {
     "name": "stdout",
     "output_type": "stream",
     "text": [
      "pun\n"
     ]
    }
   ],
   "source": [
    "child1 = {\"name\": \"sakda\", \"id\": 1}\n",
    "child2 = {\"name\": \"poon\", \"id\": 2}\n",
    "child3 = {\"name\": \"pun\", \"id\": 3}\n",
    "\n",
    "student = {\n",
    "    \"child1\":child1,\n",
    "    \"child2\":child2,\n",
    "    \"child3\":child3\n",
    "}\n",
    "\n",
    "# print(student[\"child3\"][\"name\"])"
   ]
  },
  {
   "cell_type": "code",
   "execution_count": 52,
   "metadata": {},
   "outputs": [
    {
     "name": "stdout",
     "output_type": "stream",
     "text": [
      "เลขที่ 1 ชื่อ sakda\n",
      "เลขที่ 2 ชื่อ poon\n",
      "เลขที่ 3 ชื่อ pun\n"
     ]
    }
   ],
   "source": [
    "# เลขที่ x ชื่อ xxx\n",
    "for i in student:\n",
    "    txt = f\"เลขที่ {student[i]['id']} ชื่อ {student[i]['name']}\"\n",
    "\n",
    "    print(txt)"
   ]
  }
 ],
 "metadata": {
  "kernelspec": {
   "display_name": "base",
   "language": "python",
   "name": "python3"
  },
  "language_info": {
   "codemirror_mode": {
    "name": "ipython",
    "version": 3
   },
   "file_extension": ".py",
   "mimetype": "text/x-python",
   "name": "python",
   "nbconvert_exporter": "python",
   "pygments_lexer": "ipython3",
   "version": "3.10.9"
  },
  "orig_nbformat": 4
 },
 "nbformat": 4,
 "nbformat_minor": 2
}
