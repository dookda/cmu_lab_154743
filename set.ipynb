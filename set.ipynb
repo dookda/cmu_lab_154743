{
 "cells": [
  {
   "cell_type": "code",
   "execution_count": 19,
   "metadata": {},
   "outputs": [
    {
     "name": "stdout",
     "output_type": "stream",
     "text": [
      "{'banana', 'cherry', 'orange', 'google', 'durain', 'microsoft'}\n"
     ]
    }
   ],
   "source": [
    "a = {\"apple\", \"banana\", \"cherry\"}\n",
    "b = (\"google\", \"microsoft\", \"apple\")\n",
    "c = set(b)\n",
    "\n",
    "a.add(\"durain\")\n",
    "a.add(\"orange\")\n",
    "\n",
    "# a.update(c)\n",
    "\n",
    "d = a.intersection(c)\n",
    "# a.intersection_update(c)\n",
    "\n",
    "e = a.difference(c)\n",
    "a.symmetric_difference_update(c)\n",
    "\n",
    "print(a)\n",
    "# print(type(a), type(b), type(c))\n",
    "\n",
    "# for i in a:\n",
    "#     print(i)"
   ]
  }
 ],
 "metadata": {
  "kernelspec": {
   "display_name": "base",
   "language": "python",
   "name": "python3"
  },
  "language_info": {
   "codemirror_mode": {
    "name": "ipython",
    "version": 3
   },
   "file_extension": ".py",
   "mimetype": "text/x-python",
   "name": "python",
   "nbconvert_exporter": "python",
   "pygments_lexer": "ipython3",
   "version": "3.10.9"
  },
  "orig_nbformat": 4
 },
 "nbformat": 4,
 "nbformat_minor": 2
}
