{
 "cells": [
  {
   "cell_type": "code",
   "execution_count": 3,
   "metadata": {},
   "outputs": [
    {
     "name": "stdout",
     "output_type": "stream",
     "text": [
      "5555\n"
     ]
    }
   ],
   "source": [
    "def plus():\n",
    "    print(\"5555\")\n",
    "\n",
    "plus()"
   ]
  },
  {
   "cell_type": "code",
   "execution_count": 8,
   "metadata": {},
   "outputs": [
    {
     "name": "stdout",
     "output_type": "stream",
     "text": [
      "4\n"
     ]
    }
   ],
   "source": [
    "def plus(a):\n",
    "    return a + 1\n",
    "\n",
    "b = plus(1)\n",
    "print(b+2)"
   ]
  },
  {
   "cell_type": "code",
   "execution_count": 13,
   "metadata": {},
   "outputs": [
    {
     "name": "stdout",
     "output_type": "stream",
     "text": [
      "พืช\n"
     ]
    }
   ],
   "source": [
    "def calNDVI(red, nir):\n",
    "    ndvi = (nir-red)/(nir+red)\n",
    "    if ndvi > 0.1:\n",
    "        return \"พืช\"\n",
    "    else:\n",
    "        return \"ไม่ใช่พืช\"\n",
    "     \n",
    "\n",
    "\n",
    "red = int(input(\"ใส่ค่า red: \"))\n",
    "nir = int(input(\"ใส่ค่า nir: \"))\n",
    "a = calNDVI(nir=nir, red=red)\n",
    "print(a)"
   ]
  }
 ],
 "metadata": {
  "kernelspec": {
   "display_name": "base",
   "language": "python",
   "name": "python3"
  },
  "language_info": {
   "codemirror_mode": {
    "name": "ipython",
    "version": 3
   },
   "file_extension": ".py",
   "mimetype": "text/x-python",
   "name": "python",
   "nbconvert_exporter": "python",
   "pygments_lexer": "ipython3",
   "version": "3.10.9"
  },
  "orig_nbformat": 4
 },
 "nbformat": 4,
 "nbformat_minor": 2
}
