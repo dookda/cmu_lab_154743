{
 "cells": [
  {
   "cell_type": "code",
   "execution_count": 2,
   "metadata": {},
   "outputs": [],
   "source": [
    "stdlist = [\"นาย a\", \"นาย b\", \"ดช. c\", \"นาย d\", \"นส. e\"]"
   ]
  },
  {
   "cell_type": "code",
   "execution_count": 10,
   "metadata": {},
   "outputs": [
    {
     "name": "stdout",
     "output_type": "stream",
     "text": [
      "['นาย a', 'นาย c', 'นาย d', 'นส. e', 'นาย f', 'นาย f']\n"
     ]
    }
   ],
   "source": [
    "# print(type(stdlist))\n",
    "\n",
    "stdlist[2] = \"นาย c\"\n",
    "stdlist.append(\"นาย f\")\n",
    "stdlist.pop(1)\n",
    "print(stdlist)"
   ]
  },
  {
   "cell_type": "code",
   "execution_count": 11,
   "metadata": {},
   "outputs": [
    {
     "name": "stdout",
     "output_type": "stream",
     "text": [
      "นาย a\n",
      "นาย c\n",
      "นาย d\n",
      "นส. e\n",
      "นาย f\n",
      "นาย f\n"
     ]
    }
   ],
   "source": [
    "for i in stdlist:\n",
    "    print(i)"
   ]
  },
  {
   "cell_type": "code",
   "execution_count": 12,
   "metadata": {},
   "outputs": [
    {
     "name": "stdout",
     "output_type": "stream",
     "text": [
      "0 นาย a\n",
      "1 นาย c\n",
      "2 นาย d\n",
      "3 นส. e\n",
      "4 นาย f\n",
      "5 นาย f\n"
     ]
    }
   ],
   "source": [
    "for i in range(len(stdlist)):\n",
    "    print(i, stdlist[i])"
   ]
  },
  {
   "cell_type": "code",
   "execution_count": 13,
   "metadata": {},
   "outputs": [
    {
     "name": "stdout",
     "output_type": "stream",
     "text": [
      "0 นาย a\n",
      "1 นาย c\n",
      "2 นาย d\n",
      "3 นส. e\n",
      "4 นาย f\n",
      "5 นาย f\n"
     ]
    }
   ],
   "source": [
    "i = 0\n",
    "while i < len(stdlist):\n",
    "    print(i, stdlist[i])\n",
    "    i += 1"
   ]
  }
 ],
 "metadata": {
  "kernelspec": {
   "display_name": "base",
   "language": "python",
   "name": "python3"
  },
  "language_info": {
   "codemirror_mode": {
    "name": "ipython",
    "version": 3
   },
   "file_extension": ".py",
   "mimetype": "text/x-python",
   "name": "python",
   "nbconvert_exporter": "python",
   "pygments_lexer": "ipython3",
   "version": "3.10.9"
  },
  "orig_nbformat": 4
 },
 "nbformat": 4,
 "nbformat_minor": 2
}
