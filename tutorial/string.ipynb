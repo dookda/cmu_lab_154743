{
 "cells": [
  {
   "cell_type": "code",
   "execution_count": null,
   "metadata": {},
   "outputs": [],
   "source": [
    "name = \"Sakda Homhuan\"\n",
    "\n",
    "print(name)\n",
    "print(name[3])\n",
    "print(len(name))\n",
    "print(name[:5])\n",
    "print(name[6:])\n",
    "print(name[6:9])\n",
    "print(name[-7:-4])"
   ]
  },
  {
   "cell_type": "code",
   "execution_count": null,
   "metadata": {},
   "outputs": [],
   "source": [
    "print(name.upper())\n",
    "print(name.lower())\n",
    "name2 = name[5:]\n",
    "print(name2)\n",
    "print(name2.strip().upper())\n",
    "name3 = name2.upper().replace(\"H\", \"J\").strip()\n",
    "print(name3)"
   ]
  },
  {
   "cell_type": "code",
   "execution_count": null,
   "metadata": {},
   "outputs": [],
   "source": [
    "name = \"ศักดิ์ดา หอมหวล\"\n",
    "age = 43\n",
    "information  = \"ชื่อ {} อายุ {} ปี\"\n",
    "print(information.format(name, age))"
   ]
  },
  {
   "cell_type": "code",
   "execution_count": null,
   "metadata": {},
   "outputs": [],
   "source": [
    "information  = \"อายุ {1} ปี ชื่อ {0} \"\n",
    "print(information.format(name, age))"
   ]
  },
  {
   "cell_type": "code",
   "execution_count": 44,
   "metadata": {},
   "outputs": [
    {
     "name": "stdout",
     "output_type": "stream",
     "text": [
      "ชื่อ ศักดิ์ดา หอมหวล อายุ 23 ปี\n"
     ]
    }
   ],
   "source": [
    "information  = \"ชื่อ {n} อายุ {a} ปี\"\n",
    "print(information.format(n=name, a=age))"
   ]
  },
  {
   "cell_type": "code",
   "execution_count": null,
   "metadata": {},
   "outputs": [],
   "source": [
    "age = 23\n",
    "print(\"ชื่อ %s อายุ %d ปี \" % (name, age))"
   ]
  },
  {
   "cell_type": "code",
   "execution_count": 51,
   "metadata": {},
   "outputs": [
    {
     "name": "stdout",
     "output_type": "stream",
     "text": [
      "ชื่อ ศักดิ์ดา หอมหวล ภาควิชาภูมิศาสตร์ อายุ 43 ปี\n"
     ]
    }
   ],
   "source": [
    "const = 20\n",
    "dept = \"ภาควิชาภูมิศาสตร์\"\n",
    "desc = f\"ชื่อ {name} {dept} อายุ {age + const} ปี\"\n",
    "print(desc)"
   ]
  }
 ],
 "metadata": {
  "kernelspec": {
   "display_name": "base",
   "language": "python",
   "name": "python3"
  },
  "language_info": {
   "codemirror_mode": {
    "name": "ipython",
    "version": 3
   },
   "file_extension": ".py",
   "mimetype": "text/x-python",
   "name": "python",
   "nbconvert_exporter": "python",
   "pygments_lexer": "ipython3",
   "version": "3.10.9"
  },
  "orig_nbformat": 4
 },
 "nbformat": 4,
 "nbformat_minor": 2
}
