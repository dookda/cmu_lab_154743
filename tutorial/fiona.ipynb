{
 "cells": [
  {
   "cell_type": "code",
   "execution_count": null,
   "metadata": {},
   "outputs": [],
   "source": [
    "import fiona\n",
    "\n",
    "with fiona.open('path/to/your/shapefile.shp') as src:\n",
    "    for feature in src:\n",
    "        print(feature['properties']) "
   ]
  },
  {
   "cell_type": "code",
   "execution_count": null,
   "metadata": {},
   "outputs": [],
   "source": [
    "from pyproj import Transformer\n",
    "\n",
    "transformer = Transformer.from_crs(\"EPSG:4326\", \"EPSG:3857\")  \n",
    "x2, y2 = transformer.transform(longitude, latitude)"
   ]
  },
  {
   "cell_type": "code",
   "execution_count": null,
   "metadata": {},
   "outputs": [],
   "source": [
    "import geopandas as gpd\n",
    "\n",
    "gdf = gpd.read_file('path/to/your/shapefile.shp')\n",
    "gdf_clipped = gpd.clip(gdf, polygon_geometry) \n"
   ]
  },
  {
   "cell_type": "code",
   "execution_count": null,
   "metadata": {},
   "outputs": [],
   "source": [
    "class MyClass:\n",
    "    def __init__(self, attribute1, attribute2):\n",
    "        self.attribute1 = attribute1\n",
    "        self.attribute2 = attribute2\n",
    "\n",
    "    def method1(self):\n",
    "        return self.attribute1\n"
   ]
  },
  {
   "cell_type": "code",
   "execution_count": null,
   "metadata": {},
   "outputs": [],
   "source": [
    "# Creating an object\n",
    "obj = MyClass('value1', 'value2')\n",
    "\n",
    "# Accessing attributes\n",
    "print(obj.attribute1)  # Output: value1\n",
    "\n",
    "# Calling methods\n",
    "print(obj.method1())  # Output: value1\n"
   ]
  },
  {
   "cell_type": "code",
   "execution_count": null,
   "metadata": {},
   "outputs": [],
   "source": [
    "class MyClass:\n",
    "    def __init__(self, attribute1):\n",
    "        self.__attribute1 = attribute1  # Private attribute\n",
    "\n",
    "    def get_attribute1(self):\n",
    "        return self.__attribute1  # Getter method\n",
    "\n",
    "    def set_attribute1(self, value):\n",
    "        self.__attribute1 = value  # Setter method\n"
   ]
  },
  {
   "cell_type": "code",
   "execution_count": null,
   "metadata": {},
   "outputs": [],
   "source": [
    "class ParentClass:\n",
    "    def __init__(self, attribute):\n",
    "        self.attribute = attribute\n",
    "\n",
    "    def method(self):\n",
    "        return self.attribute\n",
    "\n",
    "class ChildClass(ParentClass):\n",
    "    def __init__(self, attribute, child_attribute):\n",
    "        super().__init__(attribute)\n",
    "        self.child_attribute = child_attribute\n"
   ]
  },
  {
   "cell_type": "code",
   "execution_count": null,
   "metadata": {},
   "outputs": [],
   "source": [
    "class Shape:\n",
    "    def draw(self):\n",
    "        raise NotImplementedError\n",
    "\n",
    "class Circle(Shape):\n",
    "    def draw(self):\n",
    "        return \"Drawing a Circle\"\n",
    "\n",
    "class Square(Shape):\n",
    "    def draw(self):\n",
    "        return \"Drawing a Square\"\n",
    "\n",
    "shapes = [Circle(), Square()]\n",
    "for shape in shapes:\n",
    "    print(shape.draw())\n"
   ]
  },
  {
   "cell_type": "code",
   "execution_count": null,
   "metadata": {},
   "outputs": [],
   "source": [
    "from abc import ABC, abstractmethod\n",
    "\n",
    "class Animal(ABC):\n",
    "    @abstractmethod\n",
    "    def sound(self):\n",
    "        pass\n",
    "\n",
    "class Dog(Animal):\n",
    "    def sound(self):\n",
    "        return \"Bark\"\n",
    "\n",
    "class Cat(Animal):\n",
    "    def sound(self):\n",
    "        return \"Meow\"\n"
   ]
  },
  {
   "cell_type": "code",
   "execution_count": 2,
   "metadata": {},
   "outputs": [
    {
     "name": "stdout",
     "output_type": "stream",
     "text": [
      "Hello, World!: 'ffff' and \"hhh\" \n"
     ]
    }
   ],
   "source": [
    "a = '''Hello, World!: 'ffff' and \"hhh\" '''\n",
    "\n",
    "print(a)"
   ]
  },
  {
   "cell_type": "code",
   "execution_count": 9,
   "metadata": {},
   "outputs": [
    {
     "name": "stdout",
     "output_type": "stream",
     "text": [
      "3\n"
     ]
    },
    {
     "data": {
      "text/plain": [
       "int"
      ]
     },
     "execution_count": 9,
     "metadata": {},
     "output_type": "execute_result"
    }
   ],
   "source": [
    "a = \"3\"\n",
    "type(a)\n",
    "\n",
    "b = int(a)\n",
    "print(b)\n",
    "type(b)"
   ]
  },
  {
   "cell_type": "code",
   "execution_count": 15,
   "metadata": {},
   "outputs": [
    {
     "name": "stdout",
     "output_type": "stream",
     "text": [
      "12\n",
      "2\n"
     ]
    }
   ],
   "source": [
    "x = 1 # Global variable\n",
    "\n",
    "def myfunc():\n",
    "  global x\n",
    "  x = 2 # Local variable\n",
    "  print( x + 10)\n",
    "\n",
    "myfunc()\n",
    "print(x)"
   ]
  },
  {
   "cell_type": "code",
   "execution_count": 20,
   "metadata": {},
   "outputs": [
    {
     "name": "stdout",
     "output_type": "stream",
     "text": [
      "10000.0\n"
     ]
    }
   ],
   "source": [
    "a = 1e4\n",
    "\n",
    "print(a)"
   ]
  },
  {
   "cell_type": "code",
   "execution_count": 1,
   "metadata": {},
   "outputs": [
    {
     "name": "stdout",
     "output_type": "stream",
     "text": [
      "(1, 2, 3, 4, 5)\n",
      "1 5 15\n"
     ]
    }
   ],
   "source": [
    "a = (1, 2, 3, 4, 5)\n",
    "\n",
    "print(a)\n",
    "\n",
    "min = min(a)\n",
    "max = max(a)\n",
    "sum = sum(a)\n",
    "# av = sum(a)/len(a)\n",
    "\n",
    "print(min, max, sum)"
   ]
  },
  {
   "cell_type": "code",
   "execution_count": 5,
   "metadata": {},
   "outputs": [
    {
     "name": "stdout",
     "output_type": "stream",
     "text": [
      "4.0\n"
     ]
    }
   ],
   "source": [
    "import math\n",
    "\n",
    "num = 2\n",
    "\n",
    "p = math.pow(num, 2)\n",
    "\n",
    "print(p)"
   ]
  },
  {
   "cell_type": "code",
   "execution_count": 6,
   "metadata": {},
   "outputs": [
    {
     "name": "stdout",
     "output_type": "stream",
     "text": [
      "True\n"
     ]
    }
   ],
   "source": [
    "a = 10 > 9\n",
    "\n",
    "print(a)"
   ]
  },
  {
   "cell_type": "code",
   "execution_count": 28,
   "metadata": {},
   "outputs": [
    {
     "name": "stdout",
     "output_type": "stream",
     "text": [
      " SAKDA HOMHUAN DIYA \n",
      "sakda homhuan diya\n",
      " sokdo homhuon diyo \n"
     ]
    }
   ],
   "source": [
    "name = ''' sakda homhuan diya '''\n",
    "\n",
    "\n",
    "# print(len(name))\n",
    "# print(name[14:18])\n",
    "# print(name[-8:-4])\n",
    "\n",
    "print(name.upper())\n",
    "print(name.strip())\n",
    "print(name.replace(\"a\", \"o\"))"
   ]
  },
  {
   "cell_type": "code",
   "execution_count": 31,
   "metadata": {},
   "outputs": [
    {
     "name": "stdout",
     "output_type": "stream",
     "text": [
      "['12.4', ' 67.4', '55.0', '23.1']\n",
      "12.4\n",
      "67.4\n",
      "55.0\n",
      "23.1\n"
     ]
    }
   ],
   "source": [
    "rain = \"12.4, 67.4,55.0,23.1\"\n",
    "\n",
    "rainArray = rain.split(\",\")\n",
    "\n",
    "print(rainArray)\n",
    "\n",
    "for i in rainArray:\n",
    "    print(float(i))\n"
   ]
  },
  {
   "cell_type": "code",
   "execution_count": 32,
   "metadata": {},
   "outputs": [
    {
     "name": "stdout",
     "output_type": "stream",
     "text": [
      "my name is sakda  homhuan\n"
     ]
    }
   ],
   "source": [
    "name = \"sakda \"\n",
    "sname = \"homhuan\"\n",
    "\n",
    "print(f\"my name is {name} {sname}\")"
   ]
  }
 ],
 "metadata": {
  "kernelspec": {
   "display_name": "yolo",
   "language": "python",
   "name": "python3"
  },
  "language_info": {
   "codemirror_mode": {
    "name": "ipython",
    "version": 3
   },
   "file_extension": ".py",
   "mimetype": "text/x-python",
   "name": "python",
   "nbconvert_exporter": "python",
   "pygments_lexer": "ipython3",
   "version": "3.12.3"
  }
 },
 "nbformat": 4,
 "nbformat_minor": 2
}
