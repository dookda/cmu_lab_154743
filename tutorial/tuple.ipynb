{
 "cells": [
  {
   "cell_type": "code",
   "execution_count": 17,
   "metadata": {},
   "outputs": [
    {
     "name": "stdout",
     "output_type": "stream",
     "text": [
      "5\n",
      "['apple', 'apple', 'banana', 'cherry', 'cherry']\n"
     ]
    }
   ],
   "source": [
    "tp = (\"banana\", \"apple\", \"cherry\", \"apple\", \"cherry\")\n",
    "\n",
    "# print(tp.count(\"apple\"))\n",
    "# print(tp.index(\"cherry\"))\n",
    "print(len(tp))\n",
    "print(sorted(tp))\n",
    "# print(tp[1:4])\n",
    "\n",
    "# for i in tp:\n",
    "#     print(\"ชื่อ\",i)\n",
    "\n",
    "# i = 0\n",
    "# while i < 5:\n",
    "#     print(tp[i])\n",
    "#     i += 1"
   ]
  }
 ],
 "metadata": {
  "kernelspec": {
   "display_name": "base",
   "language": "python",
   "name": "python3"
  },
  "language_info": {
   "codemirror_mode": {
    "name": "ipython",
    "version": 3
   },
   "file_extension": ".py",
   "mimetype": "text/x-python",
   "name": "python",
   "nbconvert_exporter": "python",
   "pygments_lexer": "ipython3",
   "version": "3.10.9"
  },
  "orig_nbformat": 4
 },
 "nbformat": 4,
 "nbformat_minor": 2
}
