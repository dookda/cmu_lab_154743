{
 "cells": [
  {
   "cell_type": "code",
   "execution_count": 59,
   "metadata": {},
   "outputs": [],
   "source": [
    "class Car:\n",
    "    def __init__(self, speed=100):\n",
    "        self.color = \"red\"\n",
    "        self.door = 2\n",
    "        self.seat = 2\n",
    "        self.speed = speed\n",
    "    def sp(self):\n",
    "        print(str(self.speed) + \" km/hr\")"
   ]
  },
  {
   "cell_type": "code",
   "execution_count": 61,
   "metadata": {},
   "outputs": [
    {
     "name": "stdout",
     "output_type": "stream",
     "text": [
      "200 km/hr\n",
      "{'color': 'red', 'door': 2, 'seat': 2, 'speed': 200, 'spoiler': 'red'}\n",
      "{'color': 'white', 'door': 4, 'seat': 4, 'speed': 100}\n"
     ]
    }
   ],
   "source": [
    "car1 = Car(200)\n",
    "car1.spoiler = \"red\"\n",
    "car1.sp()\n",
    "\n",
    "car2 = Car()\n",
    "car2.door = 4\n",
    "car2.seat = 4\n",
    "car2.color = \"white\"\n",
    "\n",
    "print(car1.__dict__)\n",
    "print(car2.__dict__)"
   ]
  },
  {
   "cell_type": "code",
   "execution_count": 79,
   "metadata": {},
   "outputs": [],
   "source": [
    "class BMI:\n",
    "    def __init__(self, weight_kg, height_cm):\n",
    "        self.weight =  weight_kg \n",
    "        self.height =  height_cm  \n",
    "    def calBmi(self):\n",
    "        self.bmi = self.weight / ((self.height / 100) ** 2)\n",
    "        return self.bmi\n",
    "    def clsBmi(self):\n",
    "        val = \"\"\n",
    "        if self.calBmi() <= 18:\n",
    "            val = \"ต่ำกว่าเกณฑ์\"\n",
    "        elif self.calBmi() <= 25:\n",
    "            val = \"ตามเกณฑ์\"\n",
    "        elif self.calBmi() <= 30:\n",
    "            val = \"อวบ\"  \n",
    "        else:\n",
    "            val = \"อิ่ม\"\n",
    "\n",
    "        return val"
   ]
  },
  {
   "cell_type": "code",
   "execution_count": 82,
   "metadata": {},
   "outputs": [
    {
     "name": "stdout",
     "output_type": "stream",
     "text": [
      "คนที่1  ตามเกณฑ์\n",
      "คนที่2  ต่ำกว่าเกณฑ์\n"
     ]
    }
   ],
   "source": [
    "bmi_1 = BMI(height_cm=170, weight_kg=62)\n",
    "bmi_2 = BMI(height_cm=160, weight_kg=45)\n",
    "# print(bmi_1.__dict__)\n",
    "print(\"คนที่1 \", bmi_1.clsBmi())\n",
    "print(\"คนที่2 \", bmi_2.clsBmi())"
   ]
  }
 ],
 "metadata": {
  "kernelspec": {
   "display_name": "base",
   "language": "python",
   "name": "python3"
  },
  "language_info": {
   "codemirror_mode": {
    "name": "ipython",
    "version": 3
   },
   "file_extension": ".py",
   "mimetype": "text/x-python",
   "name": "python",
   "nbconvert_exporter": "python",
   "pygments_lexer": "ipython3",
   "version": "3.10.9"
  },
  "orig_nbformat": 4
 },
 "nbformat": 4,
 "nbformat_minor": 2
}
