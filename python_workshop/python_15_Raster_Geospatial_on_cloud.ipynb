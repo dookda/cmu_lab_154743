{
 "cells": [
  {
   "cell_type": "code",
   "execution_count": null,
   "metadata": {},
   "outputs": [],
   "source": [
    "!pip install earthengine-api"
   ]
  },
  {
   "cell_type": "code",
   "execution_count": 1,
   "metadata": {},
   "outputs": [],
   "source": [
    "import ee\n",
    "\n",
    "# Authenticate the Earth Engine library.\n",
    "ee.Authenticate()\n",
    "\n",
    "# Initialize the library.\n",
    "ee.Initialize()\n"
   ]
  },
  {
   "cell_type": "code",
   "execution_count": 2,
   "metadata": {},
   "outputs": [],
   "source": [
    "import ee\n",
    "import folium\n",
    "from folium.plugins import MarkerCluster\n",
    "import geemap.core as geemap\n",
    "\n",
    "m = geemap.Map()\n",
    "m.set_center(99, 18.80, 8)"
   ]
  },
  {
   "cell_type": "code",
   "execution_count": null,
   "metadata": {},
   "outputs": [],
   "source": [
    "roi = ee.Geometry.Polygon(\n",
    "    [[[99.0, 18.0],\n",
    "      [99.0, 19.0],\n",
    "      [100.0, 19.0],\n",
    "      [100.0, 18.0],\n",
    "      [99.0, 18.0]]]\n",
    ")\n",
    "\n",
    "print(roi.getInfo())"
   ]
  },
  {
   "cell_type": "code",
   "execution_count": null,
   "metadata": {},
   "outputs": [],
   "source": [
    "# add to feature collection\n",
    "fc = ee.FeatureCollection([\n",
    "    ee.Feature(roi)\n",
    "])\n",
    "\n",
    "# add name to property\n",
    "fc = fc.set('name', 'Chiang Mai')\n",
    "\n",
    "print(fc.getInfo())\n",
    "\n",
    "m.addLayer(fc, {}, 'roi')"
   ]
  },
  {
   "cell_type": "code",
   "execution_count": 24,
   "metadata": {},
   "outputs": [
    {
     "data": {
      "text/html": [
       "\n",
       "            <style>\n",
       "                .geemap-dark {\n",
       "                    --jp-widgets-color: white;\n",
       "                    --jp-widgets-label-color: white;\n",
       "                    --jp-ui-font-color1: white;\n",
       "                    --jp-layout-color2: #454545;\n",
       "                    background-color: #383838;\n",
       "                }\n",
       "                    \n",
       "                .geemap-dark .jupyter-button {\n",
       "                    --jp-layout-color3: #383838;\n",
       "                }\n",
       "                \n",
       "                .geemap-colab {\n",
       "                    background-color: var(--colab-primary-surface-color, white);\n",
       "                }\n",
       "                    \n",
       "                .geemap-colab .jupyter-button {\n",
       "                    --jp-layout-color3: var(--colab-primary-surface-color, white);\n",
       "                }\n",
       "            </style>\n",
       "            "
      ],
      "text/plain": [
       "<IPython.core.display.HTML object>"
      ]
     },
     "metadata": {},
     "output_type": "display_data"
    }
   ],
   "source": [
    "ls9 = ee.ImageCollection('LANDSAT/LC09/C02/T1_L2') \\\n",
    "    .filterDate('2023-11-01', '2024-01-31') \n",
    "\n",
    "# try to filter by roi"
   ]
  },
  {
   "cell_type": "code",
   "execution_count": 37,
   "metadata": {},
   "outputs": [
    {
     "data": {
      "text/html": [
       "\n",
       "            <style>\n",
       "                .geemap-dark {\n",
       "                    --jp-widgets-color: white;\n",
       "                    --jp-widgets-label-color: white;\n",
       "                    --jp-ui-font-color1: white;\n",
       "                    --jp-layout-color2: #454545;\n",
       "                    background-color: #383838;\n",
       "                }\n",
       "                    \n",
       "                .geemap-dark .jupyter-button {\n",
       "                    --jp-layout-color3: #383838;\n",
       "                }\n",
       "                \n",
       "                .geemap-colab {\n",
       "                    background-color: var(--colab-primary-surface-color, white);\n",
       "                }\n",
       "                    \n",
       "                .geemap-colab .jupyter-button {\n",
       "                    --jp-layout-color3: var(--colab-primary-surface-color, white);\n",
       "                }\n",
       "            </style>\n",
       "            "
      ],
      "text/plain": [
       "<IPython.core.display.HTML object>"
      ]
     },
     "metadata": {},
     "output_type": "display_data"
    }
   ],
   "source": [
    "# Scale factors for radiance data\n",
    "def apply_scale_factors(image):\n",
    "  optical_bands = image.select('SR_B.').multiply(0.0000275).add(-0.2)\n",
    "  thermal_bands = image.select('ST_B.*').multiply(0.00341802).add(149.0)\n",
    "  return image.addBands(optical_bands, None, True).addBands(\n",
    "      thermal_bands, None, True\n",
    "  )\n",
    "\n",
    "# apply scale factors to the dataset\n",
    "dataset = ls9.map(apply_scale_factors)"
   ]
  },
  {
   "cell_type": "code",
   "execution_count": 38,
   "metadata": {},
   "outputs": [
    {
     "data": {
      "text/html": [
       "\n",
       "            <style>\n",
       "                .geemap-dark {\n",
       "                    --jp-widgets-color: white;\n",
       "                    --jp-widgets-label-color: white;\n",
       "                    --jp-ui-font-color1: white;\n",
       "                    --jp-layout-color2: #454545;\n",
       "                    background-color: #383838;\n",
       "                }\n",
       "                    \n",
       "                .geemap-dark .jupyter-button {\n",
       "                    --jp-layout-color3: #383838;\n",
       "                }\n",
       "                \n",
       "                .geemap-colab {\n",
       "                    background-color: var(--colab-primary-surface-color, white);\n",
       "                }\n",
       "                    \n",
       "                .geemap-colab .jupyter-button {\n",
       "                    --jp-layout-color3: var(--colab-primary-surface-color, white);\n",
       "                }\n",
       "            </style>\n",
       "            "
      ],
      "text/plain": [
       "<IPython.core.display.HTML object>"
      ]
     },
     "metadata": {},
     "output_type": "display_data"
    }
   ],
   "source": [
    "# clip the image with roi\n",
    "dataset = dataset.map(lambda image: image.clip(roi))"
   ]
  },
  {
   "cell_type": "code",
   "execution_count": null,
   "metadata": {},
   "outputs": [],
   "source": [
    "# True color visualization\n",
    "vis_true = {\n",
    "    'bands': ['SR_B4', 'SR_B3', 'SR_B2'],\n",
    "    'min': 0.0,\n",
    "    'max': 0.3,\n",
    "}\n",
    "\n",
    "# False color visualization\n",
    "vis_false = {\n",
    "    'bands': ['SR_B5', 'SR_B4', 'SR_B3'],\n",
    "    'min': 0.0,\n",
    "    'max': 0.3,\n",
    "}"
   ]
  },
  {
   "cell_type": "code",
   "execution_count": null,
   "metadata": {},
   "outputs": [],
   "source": [
    "# add to map\n",
    "m.add_layer(dataset, vis_true, 'True Color (432)')"
   ]
  },
  {
   "cell_type": "code",
   "execution_count": 41,
   "metadata": {},
   "outputs": [
    {
     "data": {
      "text/html": [
       "\n",
       "            <style>\n",
       "                .geemap-dark {\n",
       "                    --jp-widgets-color: white;\n",
       "                    --jp-widgets-label-color: white;\n",
       "                    --jp-ui-font-color1: white;\n",
       "                    --jp-layout-color2: #454545;\n",
       "                    background-color: #383838;\n",
       "                }\n",
       "                    \n",
       "                .geemap-dark .jupyter-button {\n",
       "                    --jp-layout-color3: #383838;\n",
       "                }\n",
       "                \n",
       "                .geemap-colab {\n",
       "                    background-color: var(--colab-primary-surface-color, white);\n",
       "                }\n",
       "                    \n",
       "                .geemap-colab .jupyter-button {\n",
       "                    --jp-layout-color3: var(--colab-primary-surface-color, white);\n",
       "                }\n",
       "            </style>\n",
       "            "
      ],
      "text/plain": [
       "<IPython.core.display.HTML object>"
      ]
     },
     "metadata": {},
     "output_type": "display_data"
    }
   ],
   "source": [
    "# reduces an image collectionmedian to mean, max, min \n",
    "median = dataset.median()\n",
    "mean = dataset.mean()\n",
    "max = dataset.max()\n",
    "min = dataset.min()\n",
    "\n",
    "# try to add to map"
   ]
  },
  {
   "cell_type": "code",
   "execution_count": 9,
   "metadata": {},
   "outputs": [
    {
     "data": {
      "text/html": [
       "\n",
       "            <style>\n",
       "                .geemap-dark {\n",
       "                    --jp-widgets-color: white;\n",
       "                    --jp-widgets-label-color: white;\n",
       "                    --jp-ui-font-color1: white;\n",
       "                    --jp-layout-color2: #454545;\n",
       "                    background-color: #383838;\n",
       "                }\n",
       "                    \n",
       "                .geemap-dark .jupyter-button {\n",
       "                    --jp-layout-color3: #383838;\n",
       "                }\n",
       "                \n",
       "                .geemap-colab {\n",
       "                    background-color: var(--colab-primary-surface-color, white);\n",
       "                }\n",
       "                    \n",
       "                .geemap-colab .jupyter-button {\n",
       "                    --jp-layout-color3: var(--colab-primary-surface-color, white);\n",
       "                }\n",
       "            </style>\n",
       "            "
      ],
      "text/plain": [
       "<IPython.core.display.HTML object>"
      ]
     },
     "metadata": {},
     "output_type": "display_data"
    }
   ],
   "source": [
    "\n",
    "m.addLayer(dataset, vis_false, 'False color image')"
   ]
  },
  {
   "cell_type": "code",
   "execution_count": 7,
   "metadata": {},
   "outputs": [
    {
     "data": {
      "text/html": [
       "\n",
       "            <style>\n",
       "                .geemap-dark {\n",
       "                    --jp-widgets-color: white;\n",
       "                    --jp-widgets-label-color: white;\n",
       "                    --jp-ui-font-color1: white;\n",
       "                    --jp-layout-color2: #454545;\n",
       "                    background-color: #383838;\n",
       "                }\n",
       "                    \n",
       "                .geemap-dark .jupyter-button {\n",
       "                    --jp-layout-color3: #383838;\n",
       "                }\n",
       "                \n",
       "                .geemap-colab {\n",
       "                    background-color: var(--colab-primary-surface-color, white);\n",
       "                }\n",
       "                    \n",
       "                .geemap-colab .jupyter-button {\n",
       "                    --jp-layout-color3: var(--colab-primary-surface-color, white);\n",
       "                }\n",
       "            </style>\n",
       "            "
      ],
      "text/plain": [
       "<IPython.core.display.HTML object>"
      ]
     },
     "metadata": {},
     "output_type": "display_data"
    }
   ],
   "source": [
    "# NDVI visualization\n",
    "def addNDVI(image):\n",
    "    ndvi = image.normalizedDifference(['SR_B5', 'SR_B4']).rename('NDVI')\n",
    "    return image.addBands(ndvi)\n",
    "\n",
    "dataset = dataset.map(addNDVI)\n",
    "ndvi = dataset.select('NDVI')\n",
    "ndviParams = {'palette': ['blue', 'white', 'green']}\n",
    "m.addLayer(ndvi, ndviParams, 'NDVI')"
   ]
  },
  {
   "cell_type": "code",
   "execution_count": 68,
   "metadata": {},
   "outputs": [
    {
     "data": {
      "text/html": [
       "\n",
       "            <style>\n",
       "                .geemap-dark {\n",
       "                    --jp-widgets-color: white;\n",
       "                    --jp-widgets-label-color: white;\n",
       "                    --jp-ui-font-color1: white;\n",
       "                    --jp-layout-color2: #454545;\n",
       "                    background-color: #383838;\n",
       "                }\n",
       "                    \n",
       "                .geemap-dark .jupyter-button {\n",
       "                    --jp-layout-color3: #383838;\n",
       "                }\n",
       "                \n",
       "                .geemap-colab {\n",
       "                    background-color: var(--colab-primary-surface-color, white);\n",
       "                }\n",
       "                    \n",
       "                .geemap-colab .jupyter-button {\n",
       "                    --jp-layout-color3: var(--colab-primary-surface-color, white);\n",
       "                }\n",
       "            </style>\n",
       "            "
      ],
      "text/plain": [
       "<IPython.core.display.HTML object>"
      ]
     },
     "metadata": {},
     "output_type": "display_data"
    },
    {
     "name": "stdout",
     "output_type": "stream",
     "text": [
      "{'type': 'ImageCollection', 'bands': [], 'version': 1722625265194209, 'id': 'MODIS/061/MOD11A1', 'properties': {'system:is_global': 1}, 'features': [{'type': 'Image', 'bands': [{'id': 'LST_Day_1km', 'data_type': {'type': 'PixelType', 'precision': 'double', 'min': -273.15, 'max': 1037.5500000000002}, 'dimensions': [182, 122], 'origin': [32832, 8519], 'crs': 'SR-ORG:6974', 'crs_transform': [926.6254331383326, 0, -20015109.355797, 0, -926.6254331391667, 10007554.677903]}], 'properties': {'system:footprint': {'type': 'Polygon', 'coordinates': [[[99, 18], [100, 18], [100, 19], [99, 19], [99, 18]]]}, 'system:index': '2023_11_01'}}, {'type': 'Image', 'bands': [{'id': 'LST_Day_1km', 'data_type': {'type': 'PixelType', 'precision': 'double', 'min': -273.15, 'max': 1037.5500000000002}, 'dimensions': [182, 122], 'origin': [32832, 8519], 'crs': 'SR-ORG:6974', 'crs_transform': [926.6254331383326, 0, -20015109.355797, 0, -926.6254331391667, 10007554.677903]}], 'properties': {'system:footprint': {'type': 'Polygon', 'coordinates': [[[99, 18], [100, 18], [100, 19], [99, 19], [99, 18]]]}, 'system:index': '2023_11_02'}}, {'type': 'Image', 'bands': [{'id': 'LST_Day_1km', 'data_type': {'type': 'PixelType', 'precision': 'double', 'min': -273.15, 'max': 1037.5500000000002}, 'dimensions': [182, 122], 'origin': [32832, 8519], 'crs': 'SR-ORG:6974', 'crs_transform': [926.6254331383326, 0, -20015109.355797, 0, -926.6254331391667, 10007554.677903]}], 'properties': {'system:footprint': {'type': 'Polygon', 'coordinates': [[[99, 18], [100, 18], [100, 19], [99, 19], [99, 18]]]}, 'system:index': '2023_11_03'}}, {'type': 'Image', 'bands': [{'id': 'LST_Day_1km', 'data_type': {'type': 'PixelType', 'precision': 'double', 'min': -273.15, 'max': 1037.5500000000002}, 'dimensions': [182, 122], 'origin': [32832, 8519], 'crs': 'SR-ORG:6974', 'crs_transform': [926.6254331383326, 0, -20015109.355797, 0, -926.6254331383333, 10007554.677893]}], 'properties': {'system:footprint': {'type': 'Polygon', 'coordinates': [[[99, 18], [100, 18], [100, 19], [99, 19], [99, 18]]]}, 'system:index': '2023_11_04'}}, {'type': 'Image', 'bands': [{'id': 'LST_Day_1km', 'data_type': {'type': 'PixelType', 'precision': 'double', 'min': -273.15, 'max': 1037.5500000000002}, 'dimensions': [182, 122], 'origin': [32832, 8519], 'crs': 'SR-ORG:6974', 'crs_transform': [926.6254331383326, 0, -20015109.355797, 0, -926.6254331391667, 10007554.677903]}], 'properties': {'system:footprint': {'type': 'Polygon', 'coordinates': [[[99, 18], [100, 18], [100, 19], [99, 19], [99, 18]]]}, 'system:index': '2023_11_05'}}, {'type': 'Image', 'bands': [{'id': 'LST_Day_1km', 'data_type': {'type': 'PixelType', 'precision': 'double', 'min': -273.15, 'max': 1037.5500000000002}, 'dimensions': [182, 122], 'origin': [32832, 8519], 'crs': 'SR-ORG:6974', 'crs_transform': [926.6254331383326, 0, -20015109.355797, 0, -926.6254331391667, 10007554.677903]}], 'properties': {'system:footprint': {'type': 'Polygon', 'coordinates': [[[99, 18], [100, 18], [100, 19], [99, 19], [99, 18]]]}, 'system:index': '2023_11_06'}}, {'type': 'Image', 'bands': [{'id': 'LST_Day_1km', 'data_type': {'type': 'PixelType', 'precision': 'double', 'min': -273.15, 'max': 1037.5500000000002}, 'dimensions': [182, 122], 'origin': [32832, 8519], 'crs': 'SR-ORG:6974', 'crs_transform': [926.6254331383326, 0, -20015109.355797, 0, -926.6254331391667, 10007554.677903]}], 'properties': {'system:footprint': {'type': 'Polygon', 'coordinates': [[[99, 18], [100, 18], [100, 19], [99, 19], [99, 18]]]}, 'system:index': '2023_11_07'}}, {'type': 'Image', 'bands': [{'id': 'LST_Day_1km', 'data_type': {'type': 'PixelType', 'precision': 'double', 'min': -273.15, 'max': 1037.5500000000002}, 'dimensions': [182, 122], 'origin': [32832, 8519], 'crs': 'SR-ORG:6974', 'crs_transform': [926.6254331383326, 0, -20015109.355797, 0, -926.6254331391667, 10007554.677903]}], 'properties': {'system:footprint': {'type': 'Polygon', 'coordinates': [[[99, 18], [100, 18], [100, 19], [99, 19], [99, 18]]]}, 'system:index': '2023_11_08'}}, {'type': 'Image', 'bands': [{'id': 'LST_Day_1km', 'data_type': {'type': 'PixelType', 'precision': 'double', 'min': -273.15, 'max': 1037.5500000000002}, 'dimensions': [182, 122], 'origin': [32832, 8519], 'crs': 'SR-ORG:6974', 'crs_transform': [926.6254331383326, 0, -20015109.355797, 0, -926.6254331391667, 10007554.677903]}], 'properties': {'system:footprint': {'type': 'Polygon', 'coordinates': [[[99, 18], [100, 18], [100, 19], [99, 19], [99, 18]]]}, 'system:index': '2023_11_09'}}, {'type': 'Image', 'bands': [{'id': 'LST_Day_1km', 'data_type': {'type': 'PixelType', 'precision': 'double', 'min': -273.15, 'max': 1037.5500000000002}, 'dimensions': [182, 122], 'origin': [32832, 8519], 'crs': 'SR-ORG:6974', 'crs_transform': [926.6254331383326, 0, -20015109.355797, 0, -926.6254331391667, 10007554.677903]}], 'properties': {'system:footprint': {'type': 'Polygon', 'coordinates': [[[99, 18], [100, 18], [100, 19], [99, 19], [99, 18]]]}, 'system:index': '2023_11_10'}}, {'type': 'Image', 'bands': [{'id': 'LST_Day_1km', 'data_type': {'type': 'PixelType', 'precision': 'double', 'min': -273.15, 'max': 1037.5500000000002}, 'dimensions': [182, 122], 'origin': [32832, 8519], 'crs': 'SR-ORG:6974', 'crs_transform': [926.6254331383326, 0, -20015109.355797, 0, -926.6254331391667, 10007554.677903]}], 'properties': {'system:footprint': {'type': 'Polygon', 'coordinates': [[[99, 18], [100, 18], [100, 19], [99, 19], [99, 18]]]}, 'system:index': '2023_11_11'}}, {'type': 'Image', 'bands': [{'id': 'LST_Day_1km', 'data_type': {'type': 'PixelType', 'precision': 'double', 'min': -273.15, 'max': 1037.5500000000002}, 'dimensions': [182, 122], 'origin': [32832, 8519], 'crs': 'SR-ORG:6974', 'crs_transform': [926.6254331383326, 0, -20015109.355797, 0, -926.6254331391667, 10007554.677903]}], 'properties': {'system:footprint': {'type': 'Polygon', 'coordinates': [[[99, 18], [100, 18], [100, 19], [99, 19], [99, 18]]]}, 'system:index': '2023_11_12'}}, {'type': 'Image', 'bands': [{'id': 'LST_Day_1km', 'data_type': {'type': 'PixelType', 'precision': 'double', 'min': -273.15, 'max': 1037.5500000000002}, 'dimensions': [182, 122], 'origin': [32832, 8519], 'crs': 'SR-ORG:6974', 'crs_transform': [926.6254331383326, 0, -20015109.355797, 0, -926.6254331391667, 10007554.677903]}], 'properties': {'system:footprint': {'type': 'Polygon', 'coordinates': [[[99, 18], [100, 18], [100, 19], [99, 19], [99, 18]]]}, 'system:index': '2023_11_13'}}, {'type': 'Image', 'bands': [{'id': 'LST_Day_1km', 'data_type': {'type': 'PixelType', 'precision': 'double', 'min': -273.15, 'max': 1037.5500000000002}, 'dimensions': [182, 122], 'origin': [32832, 8519], 'crs': 'SR-ORG:6974', 'crs_transform': [926.6254331383326, 0, -20015109.355797, 0, -926.6254331391667, 10007554.677903]}], 'properties': {'system:footprint': {'type': 'Polygon', 'coordinates': [[[99, 18], [100, 18], [100, 19], [99, 19], [99, 18]]]}, 'system:index': '2023_11_14'}}, {'type': 'Image', 'bands': [{'id': 'LST_Day_1km', 'data_type': {'type': 'PixelType', 'precision': 'double', 'min': -273.15, 'max': 1037.5500000000002}, 'dimensions': [182, 122], 'origin': [32832, 8519], 'crs': 'SR-ORG:6974', 'crs_transform': [926.6254331383326, 0, -20015109.355797, 0, -926.6254331391667, 10007554.677903]}], 'properties': {'system:footprint': {'type': 'Polygon', 'coordinates': [[[99, 18], [100, 18], [100, 19], [99, 19], [99, 18]]]}, 'system:index': '2023_11_15'}}, {'type': 'Image', 'bands': [{'id': 'LST_Day_1km', 'data_type': {'type': 'PixelType', 'precision': 'double', 'min': -273.15, 'max': 1037.5500000000002}, 'dimensions': [182, 122], 'origin': [32832, 8519], 'crs': 'SR-ORG:6974', 'crs_transform': [926.6254331383326, 0, -20015109.355797, 0, -926.6254331391667, 10007554.677903]}], 'properties': {'system:footprint': {'type': 'Polygon', 'coordinates': [[[99, 18], [100, 18], [100, 19], [99, 19], [99, 18]]]}, 'system:index': '2023_11_16'}}, {'type': 'Image', 'bands': [{'id': 'LST_Day_1km', 'data_type': {'type': 'PixelType', 'precision': 'double', 'min': -273.15, 'max': 1037.5500000000002}, 'dimensions': [182, 122], 'origin': [32832, 8519], 'crs': 'SR-ORG:6974', 'crs_transform': [926.6254331383326, 0, -20015109.355797, 0, -926.6254331391667, 10007554.677903]}], 'properties': {'system:footprint': {'type': 'Polygon', 'coordinates': [[[99, 18], [100, 18], [100, 19], [99, 19], [99, 18]]]}, 'system:index': '2023_11_17'}}, {'type': 'Image', 'bands': [{'id': 'LST_Day_1km', 'data_type': {'type': 'PixelType', 'precision': 'double', 'min': -273.15, 'max': 1037.5500000000002}, 'dimensions': [182, 122], 'origin': [32832, 8519], 'crs': 'SR-ORG:6974', 'crs_transform': [926.6254331383326, 0, -20015109.355797, 0, -926.6254331391667, 10007554.677903]}], 'properties': {'system:footprint': {'type': 'Polygon', 'coordinates': [[[99, 18], [100, 18], [100, 19], [99, 19], [99, 18]]]}, 'system:index': '2023_11_18'}}, {'type': 'Image', 'bands': [{'id': 'LST_Day_1km', 'data_type': {'type': 'PixelType', 'precision': 'double', 'min': -273.15, 'max': 1037.5500000000002}, 'dimensions': [182, 122], 'origin': [32832, 8519], 'crs': 'SR-ORG:6974', 'crs_transform': [926.6254331383326, 0, -20015109.355797, 0, -926.6254331391667, 10007554.677903]}], 'properties': {'system:footprint': {'type': 'Polygon', 'coordinates': [[[99, 18], [100, 18], [100, 19], [99, 19], [99, 18]]]}, 'system:index': '2023_11_19'}}, {'type': 'Image', 'bands': [{'id': 'LST_Day_1km', 'data_type': {'type': 'PixelType', 'precision': 'double', 'min': -273.15, 'max': 1037.5500000000002}, 'dimensions': [182, 122], 'origin': [32832, 8519], 'crs': 'SR-ORG:6974', 'crs_transform': [926.6254331383326, 0, -20015109.355797, 0, -926.6254331391667, 10007554.677903]}], 'properties': {'system:footprint': {'type': 'Polygon', 'coordinates': [[[99, 18], [100, 18], [100, 19], [99, 19], [99, 18]]]}, 'system:index': '2023_11_20'}}, {'type': 'Image', 'bands': [{'id': 'LST_Day_1km', 'data_type': {'type': 'PixelType', 'precision': 'double', 'min': -273.15, 'max': 1037.5500000000002}, 'dimensions': [182, 122], 'origin': [32832, 8519], 'crs': 'SR-ORG:6974', 'crs_transform': [926.6254331383326, 0, -20015109.355797, 0, -926.6254331391667, 10007554.677903]}], 'properties': {'system:footprint': {'type': 'Polygon', 'coordinates': [[[99, 18], [100, 18], [100, 19], [99, 19], [99, 18]]]}, 'system:index': '2023_11_21'}}, {'type': 'Image', 'bands': [{'id': 'LST_Day_1km', 'data_type': {'type': 'PixelType', 'precision': 'double', 'min': -273.15, 'max': 1037.5500000000002}, 'dimensions': [182, 122], 'origin': [32832, 8519], 'crs': 'SR-ORG:6974', 'crs_transform': [926.6254331383326, 0, -20015109.355797, 0, -926.6254331391667, 10007554.677903]}], 'properties': {'system:footprint': {'type': 'Polygon', 'coordinates': [[[99, 18], [100, 18], [100, 19], [99, 19], [99, 18]]]}, 'system:index': '2023_11_22'}}, {'type': 'Image', 'bands': [{'id': 'LST_Day_1km', 'data_type': {'type': 'PixelType', 'precision': 'double', 'min': -273.15, 'max': 1037.5500000000002}, 'dimensions': [182, 122], 'origin': [32832, 8519], 'crs': 'SR-ORG:6974', 'crs_transform': [926.6254331383326, 0, -20015109.355797, 0, -926.6254331391667, 10007554.677903]}], 'properties': {'system:footprint': {'type': 'Polygon', 'coordinates': [[[99, 18], [100, 18], [100, 19], [99, 19], [99, 18]]]}, 'system:index': '2023_11_23'}}, {'type': 'Image', 'bands': [{'id': 'LST_Day_1km', 'data_type': {'type': 'PixelType', 'precision': 'double', 'min': -273.15, 'max': 1037.5500000000002}, 'dimensions': [182, 122], 'origin': [32832, 8519], 'crs': 'SR-ORG:6974', 'crs_transform': [926.6254331383326, 0, -20015109.355797, 0, -926.6254331391667, 10007554.677903]}], 'properties': {'system:footprint': {'type': 'Polygon', 'coordinates': [[[99, 18], [100, 18], [100, 19], [99, 19], [99, 18]]]}, 'system:index': '2023_11_24'}}, {'type': 'Image', 'bands': [{'id': 'LST_Day_1km', 'data_type': {'type': 'PixelType', 'precision': 'double', 'min': -273.15, 'max': 1037.5500000000002}, 'dimensions': [182, 122], 'origin': [32832, 8519], 'crs': 'SR-ORG:6974', 'crs_transform': [926.6254331383326, 0, -20015109.355797, 0, -926.6254331391667, 10007554.677903]}], 'properties': {'system:footprint': {'type': 'Polygon', 'coordinates': [[[99, 18], [100, 18], [100, 19], [99, 19], [99, 18]]]}, 'system:index': '2023_11_25'}}, {'type': 'Image', 'bands': [{'id': 'LST_Day_1km', 'data_type': {'type': 'PixelType', 'precision': 'double', 'min': -273.15, 'max': 1037.5500000000002}, 'dimensions': [182, 122], 'origin': [32832, 8519], 'crs': 'SR-ORG:6974', 'crs_transform': [926.6254331383326, 0, -20015109.355797, 0, -926.6254331391667, 10007554.677903]}], 'properties': {'system:footprint': {'type': 'Polygon', 'coordinates': [[[99, 18], [100, 18], [100, 19], [99, 19], [99, 18]]]}, 'system:index': '2023_11_26'}}, {'type': 'Image', 'bands': [{'id': 'LST_Day_1km', 'data_type': {'type': 'PixelType', 'precision': 'double', 'min': -273.15, 'max': 1037.5500000000002}, 'dimensions': [182, 122], 'origin': [32832, 8519], 'crs': 'SR-ORG:6974', 'crs_transform': [926.6254331383326, 0, -20015109.355797, 0, -926.6254331391667, 10007554.677903]}], 'properties': {'system:footprint': {'type': 'Polygon', 'coordinates': [[[99, 18], [100, 18], [100, 19], [99, 19], [99, 18]]]}, 'system:index': '2023_11_27'}}, {'type': 'Image', 'bands': [{'id': 'LST_Day_1km', 'data_type': {'type': 'PixelType', 'precision': 'double', 'min': -273.15, 'max': 1037.5500000000002}, 'dimensions': [182, 122], 'origin': [32832, 8519], 'crs': 'SR-ORG:6974', 'crs_transform': [926.6254331383326, 0, -20015109.355797, 0, -926.6254331391667, 10007554.677903]}], 'properties': {'system:footprint': {'type': 'Polygon', 'coordinates': [[[99, 18], [100, 18], [100, 19], [99, 19], [99, 18]]]}, 'system:index': '2023_11_28'}}, {'type': 'Image', 'bands': [{'id': 'LST_Day_1km', 'data_type': {'type': 'PixelType', 'precision': 'double', 'min': -273.15, 'max': 1037.5500000000002}, 'dimensions': [182, 122], 'origin': [32832, 8519], 'crs': 'SR-ORG:6974', 'crs_transform': [926.6254331383326, 0, -20015109.355797, 0, -926.6254331391667, 10007554.677903]}], 'properties': {'system:footprint': {'type': 'Polygon', 'coordinates': [[[99, 18], [100, 18], [100, 19], [99, 19], [99, 18]]]}, 'system:index': '2023_11_29'}}, {'type': 'Image', 'bands': [{'id': 'LST_Day_1km', 'data_type': {'type': 'PixelType', 'precision': 'double', 'min': -273.15, 'max': 1037.5500000000002}, 'dimensions': [182, 122], 'origin': [32832, 8519], 'crs': 'SR-ORG:6974', 'crs_transform': [926.6254331383326, 0, -20015109.355797, 0, -926.6254331391667, 10007554.677903]}], 'properties': {'system:footprint': {'type': 'Polygon', 'coordinates': [[[99, 18], [100, 18], [100, 19], [99, 19], [99, 18]]]}, 'system:index': '2023_11_30'}}, {'type': 'Image', 'bands': [{'id': 'LST_Day_1km', 'data_type': {'type': 'PixelType', 'precision': 'double', 'min': -273.15, 'max': 1037.5500000000002}, 'dimensions': [182, 122], 'origin': [32832, 8519], 'crs': 'SR-ORG:6974', 'crs_transform': [926.6254331383326, 0, -20015109.355797, 0, -926.6254331391667, 10007554.677903]}], 'properties': {'system:footprint': {'type': 'Polygon', 'coordinates': [[[99, 18], [100, 18], [100, 19], [99, 19], [99, 18]]]}, 'system:index': '2023_12_01'}}, {'type': 'Image', 'bands': [{'id': 'LST_Day_1km', 'data_type': {'type': 'PixelType', 'precision': 'double', 'min': -273.15, 'max': 1037.5500000000002}, 'dimensions': [182, 122], 'origin': [32832, 8519], 'crs': 'SR-ORG:6974', 'crs_transform': [926.6254331383326, 0, -20015109.355797, 0, -926.6254331391667, 10007554.677903]}], 'properties': {'system:footprint': {'type': 'Polygon', 'coordinates': [[[99, 18], [100, 18], [100, 19], [99, 19], [99, 18]]]}, 'system:index': '2023_12_02'}}, {'type': 'Image', 'bands': [{'id': 'LST_Day_1km', 'data_type': {'type': 'PixelType', 'precision': 'double', 'min': -273.15, 'max': 1037.5500000000002}, 'dimensions': [182, 122], 'origin': [32832, 8519], 'crs': 'SR-ORG:6974', 'crs_transform': [926.6254331383326, 0, -20015109.355797, 0, -926.6254331391667, 10007554.677903]}], 'properties': {'system:footprint': {'type': 'Polygon', 'coordinates': [[[99, 18], [100, 18], [100, 19], [99, 19], [99, 18]]]}, 'system:index': '2023_12_03'}}, {'type': 'Image', 'bands': [{'id': 'LST_Day_1km', 'data_type': {'type': 'PixelType', 'precision': 'double', 'min': -273.15, 'max': 1037.5500000000002}, 'dimensions': [182, 122], 'origin': [32832, 8519], 'crs': 'SR-ORG:6974', 'crs_transform': [926.6254331383326, 0, -20015109.355797, 0, -926.6254331391667, 10007554.677903]}], 'properties': {'system:footprint': {'type': 'Polygon', 'coordinates': [[[99, 18], [100, 18], [100, 19], [99, 19], [99, 18]]]}, 'system:index': '2023_12_04'}}, {'type': 'Image', 'bands': [{'id': 'LST_Day_1km', 'data_type': {'type': 'PixelType', 'precision': 'double', 'min': -273.15, 'max': 1037.5500000000002}, 'dimensions': [182, 122], 'origin': [32832, 8519], 'crs': 'SR-ORG:6974', 'crs_transform': [926.6254331383326, 0, -20015109.355797, 0, -926.6254331391667, 10007554.677903]}], 'properties': {'system:footprint': {'type': 'Polygon', 'coordinates': [[[99, 18], [100, 18], [100, 19], [99, 19], [99, 18]]]}, 'system:index': '2023_12_05'}}, {'type': 'Image', 'bands': [{'id': 'LST_Day_1km', 'data_type': {'type': 'PixelType', 'precision': 'double', 'min': -273.15, 'max': 1037.5500000000002}, 'dimensions': [182, 122], 'origin': [32832, 8519], 'crs': 'SR-ORG:6974', 'crs_transform': [926.6254331383326, 0, -20015109.355797, 0, -926.6254331391667, 10007554.677903]}], 'properties': {'system:footprint': {'type': 'Polygon', 'coordinates': [[[99, 18], [100, 18], [100, 19], [99, 19], [99, 18]]]}, 'system:index': '2023_12_06'}}, {'type': 'Image', 'bands': [{'id': 'LST_Day_1km', 'data_type': {'type': 'PixelType', 'precision': 'double', 'min': -273.15, 'max': 1037.5500000000002}, 'dimensions': [182, 122], 'origin': [32832, 8519], 'crs': 'SR-ORG:6974', 'crs_transform': [926.6254331383326, 0, -20015109.355797, 0, -926.6254331391667, 10007554.677903]}], 'properties': {'system:footprint': {'type': 'Polygon', 'coordinates': [[[99, 18], [100, 18], [100, 19], [99, 19], [99, 18]]]}, 'system:index': '2023_12_07'}}, {'type': 'Image', 'bands': [{'id': 'LST_Day_1km', 'data_type': {'type': 'PixelType', 'precision': 'double', 'min': -273.15, 'max': 1037.5500000000002}, 'dimensions': [182, 122], 'origin': [32832, 8519], 'crs': 'SR-ORG:6974', 'crs_transform': [926.6254331383326, 0, -20015109.355797, 0, -926.6254331391667, 10007554.677903]}], 'properties': {'system:footprint': {'type': 'Polygon', 'coordinates': [[[99, 18], [100, 18], [100, 19], [99, 19], [99, 18]]]}, 'system:index': '2023_12_08'}}, {'type': 'Image', 'bands': [{'id': 'LST_Day_1km', 'data_type': {'type': 'PixelType', 'precision': 'double', 'min': -273.15, 'max': 1037.5500000000002}, 'dimensions': [182, 122], 'origin': [32832, 8519], 'crs': 'SR-ORG:6974', 'crs_transform': [926.6254331383326, 0, -20015109.355797, 0, -926.6254331391667, 10007554.677903]}], 'properties': {'system:footprint': {'type': 'Polygon', 'coordinates': [[[99, 18], [100, 18], [100, 19], [99, 19], [99, 18]]]}, 'system:index': '2023_12_09'}}, {'type': 'Image', 'bands': [{'id': 'LST_Day_1km', 'data_type': {'type': 'PixelType', 'precision': 'double', 'min': -273.15, 'max': 1037.5500000000002}, 'dimensions': [182, 122], 'origin': [32832, 8519], 'crs': 'SR-ORG:6974', 'crs_transform': [926.6254331383326, 0, -20015109.355797, 0, -926.6254331391667, 10007554.677903]}], 'properties': {'system:footprint': {'type': 'Polygon', 'coordinates': [[[99, 18], [100, 18], [100, 19], [99, 19], [99, 18]]]}, 'system:index': '2023_12_10'}}, {'type': 'Image', 'bands': [{'id': 'LST_Day_1km', 'data_type': {'type': 'PixelType', 'precision': 'double', 'min': -273.15, 'max': 1037.5500000000002}, 'dimensions': [182, 122], 'origin': [32832, 8519], 'crs': 'SR-ORG:6974', 'crs_transform': [926.6254331383326, 0, -20015109.355797, 0, -926.6254331391667, 10007554.677903]}], 'properties': {'system:footprint': {'type': 'Polygon', 'coordinates': [[[99, 18], [100, 18], [100, 19], [99, 19], [99, 18]]]}, 'system:index': '2023_12_11'}}, {'type': 'Image', 'bands': [{'id': 'LST_Day_1km', 'data_type': {'type': 'PixelType', 'precision': 'double', 'min': -273.15, 'max': 1037.5500000000002}, 'dimensions': [182, 122], 'origin': [32832, 8519], 'crs': 'SR-ORG:6974', 'crs_transform': [926.6254331383326, 0, -20015109.355797, 0, -926.6254331391667, 10007554.677903]}], 'properties': {'system:footprint': {'type': 'Polygon', 'coordinates': [[[99, 18], [100, 18], [100, 19], [99, 19], [99, 18]]]}, 'system:index': '2023_12_12'}}, {'type': 'Image', 'bands': [{'id': 'LST_Day_1km', 'data_type': {'type': 'PixelType', 'precision': 'double', 'min': -273.15, 'max': 1037.5500000000002}, 'dimensions': [182, 122], 'origin': [32832, 8519], 'crs': 'SR-ORG:6974', 'crs_transform': [926.6254331383326, 0, -20015109.355797, 0, -926.6254331391667, 10007554.677903]}], 'properties': {'system:footprint': {'type': 'Polygon', 'coordinates': [[[99, 18], [100, 18], [100, 19], [99, 19], [99, 18]]]}, 'system:index': '2023_12_13'}}, {'type': 'Image', 'bands': [{'id': 'LST_Day_1km', 'data_type': {'type': 'PixelType', 'precision': 'double', 'min': -273.15, 'max': 1037.5500000000002}, 'dimensions': [182, 122], 'origin': [32832, 8519], 'crs': 'SR-ORG:6974', 'crs_transform': [926.6254331383326, 0, -20015109.355797, 0, -926.6254331391667, 10007554.677903]}], 'properties': {'system:footprint': {'type': 'Polygon', 'coordinates': [[[99, 18], [100, 18], [100, 19], [99, 19], [99, 18]]]}, 'system:index': '2023_12_14'}}, {'type': 'Image', 'bands': [{'id': 'LST_Day_1km', 'data_type': {'type': 'PixelType', 'precision': 'double', 'min': -273.15, 'max': 1037.5500000000002}, 'dimensions': [182, 122], 'origin': [32832, 8519], 'crs': 'SR-ORG:6974', 'crs_transform': [926.6254331383326, 0, -20015109.355797, 0, -926.6254331391667, 10007554.677903]}], 'properties': {'system:footprint': {'type': 'Polygon', 'coordinates': [[[99, 18], [100, 18], [100, 19], [99, 19], [99, 18]]]}, 'system:index': '2023_12_15'}}, {'type': 'Image', 'bands': [{'id': 'LST_Day_1km', 'data_type': {'type': 'PixelType', 'precision': 'double', 'min': -273.15, 'max': 1037.5500000000002}, 'dimensions': [182, 122], 'origin': [32832, 8519], 'crs': 'SR-ORG:6974', 'crs_transform': [926.6254331383326, 0, -20015109.355797, 0, -926.6254331391667, 10007554.677903]}], 'properties': {'system:footprint': {'type': 'Polygon', 'coordinates': [[[99, 18], [100, 18], [100, 19], [99, 19], [99, 18]]]}, 'system:index': '2023_12_16'}}, {'type': 'Image', 'bands': [{'id': 'LST_Day_1km', 'data_type': {'type': 'PixelType', 'precision': 'double', 'min': -273.15, 'max': 1037.5500000000002}, 'dimensions': [182, 122], 'origin': [32832, 8519], 'crs': 'SR-ORG:6974', 'crs_transform': [926.6254331383326, 0, -20015109.355797, 0, -926.6254331391667, 10007554.677903]}], 'properties': {'system:footprint': {'type': 'Polygon', 'coordinates': [[[99, 18], [100, 18], [100, 19], [99, 19], [99, 18]]]}, 'system:index': '2023_12_17'}}, {'type': 'Image', 'bands': [{'id': 'LST_Day_1km', 'data_type': {'type': 'PixelType', 'precision': 'double', 'min': -273.15, 'max': 1037.5500000000002}, 'dimensions': [182, 122], 'origin': [32832, 8519], 'crs': 'SR-ORG:6974', 'crs_transform': [926.6254331383326, 0, -20015109.355797, 0, -926.6254331391667, 10007554.677903]}], 'properties': {'system:footprint': {'type': 'Polygon', 'coordinates': [[[99, 18], [100, 18], [100, 19], [99, 19], [99, 18]]]}, 'system:index': '2023_12_18'}}, {'type': 'Image', 'bands': [{'id': 'LST_Day_1km', 'data_type': {'type': 'PixelType', 'precision': 'double', 'min': -273.15, 'max': 1037.5500000000002}, 'dimensions': [182, 122], 'origin': [32832, 8519], 'crs': 'SR-ORG:6974', 'crs_transform': [926.6254331383326, 0, -20015109.355797, 0, -926.6254331391667, 10007554.677903]}], 'properties': {'system:footprint': {'type': 'Polygon', 'coordinates': [[[99, 18], [100, 18], [100, 19], [99, 19], [99, 18]]]}, 'system:index': '2023_12_19'}}, {'type': 'Image', 'bands': [{'id': 'LST_Day_1km', 'data_type': {'type': 'PixelType', 'precision': 'double', 'min': -273.15, 'max': 1037.5500000000002}, 'dimensions': [182, 122], 'origin': [32832, 8519], 'crs': 'SR-ORG:6974', 'crs_transform': [926.6254331383326, 0, -20015109.355797, 0, -926.6254331391667, 10007554.677903]}], 'properties': {'system:footprint': {'type': 'Polygon', 'coordinates': [[[99, 18], [100, 18], [100, 19], [99, 19], [99, 18]]]}, 'system:index': '2023_12_20'}}, {'type': 'Image', 'bands': [{'id': 'LST_Day_1km', 'data_type': {'type': 'PixelType', 'precision': 'double', 'min': -273.15, 'max': 1037.5500000000002}, 'dimensions': [182, 122], 'origin': [32832, 8519], 'crs': 'SR-ORG:6974', 'crs_transform': [926.6254331383326, 0, -20015109.355797, 0, -926.6254331391667, 10007554.677903]}], 'properties': {'system:footprint': {'type': 'Polygon', 'coordinates': [[[99, 18], [100, 18], [100, 19], [99, 19], [99, 18]]]}, 'system:index': '2023_12_21'}}, {'type': 'Image', 'bands': [{'id': 'LST_Day_1km', 'data_type': {'type': 'PixelType', 'precision': 'double', 'min': -273.15, 'max': 1037.5500000000002}, 'dimensions': [182, 122], 'origin': [32832, 8519], 'crs': 'SR-ORG:6974', 'crs_transform': [926.6254331383326, 0, -20015109.355797, 0, -926.6254331391667, 10007554.677903]}], 'properties': {'system:footprint': {'type': 'Polygon', 'coordinates': [[[99, 18], [100, 18], [100, 19], [99, 19], [99, 18]]]}, 'system:index': '2023_12_22'}}, {'type': 'Image', 'bands': [{'id': 'LST_Day_1km', 'data_type': {'type': 'PixelType', 'precision': 'double', 'min': -273.15, 'max': 1037.5500000000002}, 'dimensions': [182, 122], 'origin': [32832, 8519], 'crs': 'SR-ORG:6974', 'crs_transform': [926.6254331383326, 0, -20015109.355797, 0, -926.6254331391667, 10007554.677903]}], 'properties': {'system:footprint': {'type': 'Polygon', 'coordinates': [[[99, 18], [100, 18], [100, 19], [99, 19], [99, 18]]]}, 'system:index': '2023_12_23'}}, {'type': 'Image', 'bands': [{'id': 'LST_Day_1km', 'data_type': {'type': 'PixelType', 'precision': 'double', 'min': -273.15, 'max': 1037.5500000000002}, 'dimensions': [182, 122], 'origin': [32832, 8519], 'crs': 'SR-ORG:6974', 'crs_transform': [926.6254331383326, 0, -20015109.355797, 0, -926.6254331391667, 10007554.677903]}], 'properties': {'system:footprint': {'type': 'Polygon', 'coordinates': [[[99, 18], [100, 18], [100, 19], [99, 19], [99, 18]]]}, 'system:index': '2023_12_24'}}, {'type': 'Image', 'bands': [{'id': 'LST_Day_1km', 'data_type': {'type': 'PixelType', 'precision': 'double', 'min': -273.15, 'max': 1037.5500000000002}, 'dimensions': [182, 122], 'origin': [32832, 8519], 'crs': 'SR-ORG:6974', 'crs_transform': [926.6254331383326, 0, -20015109.355797, 0, -926.6254331391667, 10007554.677903]}], 'properties': {'system:footprint': {'type': 'Polygon', 'coordinates': [[[99, 18], [100, 18], [100, 19], [99, 19], [99, 18]]]}, 'system:index': '2023_12_25'}}, {'type': 'Image', 'bands': [{'id': 'LST_Day_1km', 'data_type': {'type': 'PixelType', 'precision': 'double', 'min': -273.15, 'max': 1037.5500000000002}, 'dimensions': [182, 122], 'origin': [32832, 8519], 'crs': 'SR-ORG:6974', 'crs_transform': [926.6254331383326, 0, -20015109.355797, 0, -926.6254331391667, 10007554.677903]}], 'properties': {'system:footprint': {'type': 'Polygon', 'coordinates': [[[99, 18], [100, 18], [100, 19], [99, 19], [99, 18]]]}, 'system:index': '2023_12_26'}}, {'type': 'Image', 'bands': [{'id': 'LST_Day_1km', 'data_type': {'type': 'PixelType', 'precision': 'double', 'min': -273.15, 'max': 1037.5500000000002}, 'dimensions': [182, 122], 'origin': [32832, 8519], 'crs': 'SR-ORG:6974', 'crs_transform': [926.6254331383326, 0, -20015109.355797, 0, -926.6254331391667, 10007554.677903]}], 'properties': {'system:footprint': {'type': 'Polygon', 'coordinates': [[[99, 18], [100, 18], [100, 19], [99, 19], [99, 18]]]}, 'system:index': '2023_12_27'}}, {'type': 'Image', 'bands': [{'id': 'LST_Day_1km', 'data_type': {'type': 'PixelType', 'precision': 'double', 'min': -273.15, 'max': 1037.5500000000002}, 'dimensions': [182, 122], 'origin': [32832, 8519], 'crs': 'SR-ORG:6974', 'crs_transform': [926.6254331383326, 0, -20015109.355797, 0, -926.6254331391667, 10007554.677903]}], 'properties': {'system:footprint': {'type': 'Polygon', 'coordinates': [[[99, 18], [100, 18], [100, 19], [99, 19], [99, 18]]]}, 'system:index': '2023_12_28'}}, {'type': 'Image', 'bands': [{'id': 'LST_Day_1km', 'data_type': {'type': 'PixelType', 'precision': 'double', 'min': -273.15, 'max': 1037.5500000000002}, 'dimensions': [182, 122], 'origin': [32832, 8519], 'crs': 'SR-ORG:6974', 'crs_transform': [926.6254331383326, 0, -20015109.355797, 0, -926.6254331391667, 10007554.677903]}], 'properties': {'system:footprint': {'type': 'Polygon', 'coordinates': [[[99, 18], [100, 18], [100, 19], [99, 19], [99, 18]]]}, 'system:index': '2023_12_29'}}, {'type': 'Image', 'bands': [{'id': 'LST_Day_1km', 'data_type': {'type': 'PixelType', 'precision': 'double', 'min': -273.15, 'max': 1037.5500000000002}, 'dimensions': [182, 122], 'origin': [32832, 8519], 'crs': 'SR-ORG:6974', 'crs_transform': [926.6254331383326, 0, -20015109.355797, 0, -926.6254331391667, 10007554.677903]}], 'properties': {'system:footprint': {'type': 'Polygon', 'coordinates': [[[99, 18], [100, 18], [100, 19], [99, 19], [99, 18]]]}, 'system:index': '2023_12_30'}}, {'type': 'Image', 'bands': [{'id': 'LST_Day_1km', 'data_type': {'type': 'PixelType', 'precision': 'double', 'min': -273.15, 'max': 1037.5500000000002}, 'dimensions': [182, 122], 'origin': [32832, 8519], 'crs': 'SR-ORG:6974', 'crs_transform': [926.6254331383326, 0, -20015109.355797, 0, -926.6254331391667, 10007554.677903]}], 'properties': {'system:footprint': {'type': 'Polygon', 'coordinates': [[[99, 18], [100, 18], [100, 19], [99, 19], [99, 18]]]}, 'system:index': '2023_12_31'}}, {'type': 'Image', 'bands': [{'id': 'LST_Day_1km', 'data_type': {'type': 'PixelType', 'precision': 'double', 'min': -273.15, 'max': 1037.5500000000002}, 'dimensions': [182, 122], 'origin': [32832, 8519], 'crs': 'SR-ORG:6974', 'crs_transform': [926.6254331383326, 0, -20015109.355797, 0, -926.6254331391667, 10007554.677903]}], 'properties': {'system:footprint': {'type': 'Polygon', 'coordinates': [[[99, 18], [100, 18], [100, 19], [99, 19], [99, 18]]]}, 'system:index': '2024_01_01'}}, {'type': 'Image', 'bands': [{'id': 'LST_Day_1km', 'data_type': {'type': 'PixelType', 'precision': 'double', 'min': -273.15, 'max': 1037.5500000000002}, 'dimensions': [182, 122], 'origin': [32832, 8519], 'crs': 'SR-ORG:6974', 'crs_transform': [926.6254331383326, 0, -20015109.355797, 0, -926.6254331391667, 10007554.677903]}], 'properties': {'system:footprint': {'type': 'Polygon', 'coordinates': [[[99, 18], [100, 18], [100, 19], [99, 19], [99, 18]]]}, 'system:index': '2024_01_02'}}, {'type': 'Image', 'bands': [{'id': 'LST_Day_1km', 'data_type': {'type': 'PixelType', 'precision': 'double', 'min': -273.15, 'max': 1037.5500000000002}, 'dimensions': [182, 122], 'origin': [32832, 8519], 'crs': 'SR-ORG:6974', 'crs_transform': [926.6254331383326, 0, -20015109.355797, 0, -926.6254331391667, 10007554.677903]}], 'properties': {'system:footprint': {'type': 'Polygon', 'coordinates': [[[99, 18], [100, 18], [100, 19], [99, 19], [99, 18]]]}, 'system:index': '2024_01_03'}}, {'type': 'Image', 'bands': [{'id': 'LST_Day_1km', 'data_type': {'type': 'PixelType', 'precision': 'double', 'min': -273.15, 'max': 1037.5500000000002}, 'dimensions': [182, 122], 'origin': [32832, 8519], 'crs': 'SR-ORG:6974', 'crs_transform': [926.6254331383326, 0, -20015109.355797, 0, -926.6254331391667, 10007554.677903]}], 'properties': {'system:footprint': {'type': 'Polygon', 'coordinates': [[[99, 18], [100, 18], [100, 19], [99, 19], [99, 18]]]}, 'system:index': '2024_01_04'}}, {'type': 'Image', 'bands': [{'id': 'LST_Day_1km', 'data_type': {'type': 'PixelType', 'precision': 'double', 'min': -273.15, 'max': 1037.5500000000002}, 'dimensions': [182, 122], 'origin': [32832, 8519], 'crs': 'SR-ORG:6974', 'crs_transform': [926.6254331383326, 0, -20015109.355797, 0, -926.6254331391667, 10007554.677903]}], 'properties': {'system:footprint': {'type': 'Polygon', 'coordinates': [[[99, 18], [100, 18], [100, 19], [99, 19], [99, 18]]]}, 'system:index': '2024_01_05'}}, {'type': 'Image', 'bands': [{'id': 'LST_Day_1km', 'data_type': {'type': 'PixelType', 'precision': 'double', 'min': -273.15, 'max': 1037.5500000000002}, 'dimensions': [182, 122], 'origin': [32832, 8519], 'crs': 'SR-ORG:6974', 'crs_transform': [926.6254331383326, 0, -20015109.355797, 0, -926.6254331391667, 10007554.677903]}], 'properties': {'system:footprint': {'type': 'Polygon', 'coordinates': [[[99, 18], [100, 18], [100, 19], [99, 19], [99, 18]]]}, 'system:index': '2024_01_06'}}, {'type': 'Image', 'bands': [{'id': 'LST_Day_1km', 'data_type': {'type': 'PixelType', 'precision': 'double', 'min': -273.15, 'max': 1037.5500000000002}, 'dimensions': [182, 122], 'origin': [32832, 8519], 'crs': 'SR-ORG:6974', 'crs_transform': [926.6254331383326, 0, -20015109.355797, 0, -926.6254331391667, 10007554.677903]}], 'properties': {'system:footprint': {'type': 'Polygon', 'coordinates': [[[99, 18], [100, 18], [100, 19], [99, 19], [99, 18]]]}, 'system:index': '2024_01_07'}}, {'type': 'Image', 'bands': [{'id': 'LST_Day_1km', 'data_type': {'type': 'PixelType', 'precision': 'double', 'min': -273.15, 'max': 1037.5500000000002}, 'dimensions': [182, 122], 'origin': [32832, 8519], 'crs': 'SR-ORG:6974', 'crs_transform': [926.6254331383326, 0, -20015109.355797, 0, -926.6254331391667, 10007554.677903]}], 'properties': {'system:footprint': {'type': 'Polygon', 'coordinates': [[[99, 18], [100, 18], [100, 19], [99, 19], [99, 18]]]}, 'system:index': '2024_01_08'}}, {'type': 'Image', 'bands': [{'id': 'LST_Day_1km', 'data_type': {'type': 'PixelType', 'precision': 'double', 'min': -273.15, 'max': 1037.5500000000002}, 'dimensions': [182, 122], 'origin': [32832, 8519], 'crs': 'SR-ORG:6974', 'crs_transform': [926.6254331383326, 0, -20015109.355797, 0, -926.6254331391667, 10007554.677903]}], 'properties': {'system:footprint': {'type': 'Polygon', 'coordinates': [[[99, 18], [100, 18], [100, 19], [99, 19], [99, 18]]]}, 'system:index': '2024_01_09'}}, {'type': 'Image', 'bands': [{'id': 'LST_Day_1km', 'data_type': {'type': 'PixelType', 'precision': 'double', 'min': -273.15, 'max': 1037.5500000000002}, 'dimensions': [182, 122], 'origin': [32832, 8519], 'crs': 'SR-ORG:6974', 'crs_transform': [926.6254331383326, 0, -20015109.355797, 0, -926.6254331391667, 10007554.677903]}], 'properties': {'system:footprint': {'type': 'Polygon', 'coordinates': [[[99, 18], [100, 18], [100, 19], [99, 19], [99, 18]]]}, 'system:index': '2024_01_10'}}, {'type': 'Image', 'bands': [{'id': 'LST_Day_1km', 'data_type': {'type': 'PixelType', 'precision': 'double', 'min': -273.15, 'max': 1037.5500000000002}, 'dimensions': [182, 122], 'origin': [32832, 8519], 'crs': 'SR-ORG:6974', 'crs_transform': [926.6254331383326, 0, -20015109.355797, 0, -926.6254331391667, 10007554.677903]}], 'properties': {'system:footprint': {'type': 'Polygon', 'coordinates': [[[99, 18], [100, 18], [100, 19], [99, 19], [99, 18]]]}, 'system:index': '2024_01_11'}}, {'type': 'Image', 'bands': [{'id': 'LST_Day_1km', 'data_type': {'type': 'PixelType', 'precision': 'double', 'min': -273.15, 'max': 1037.5500000000002}, 'dimensions': [182, 122], 'origin': [32832, 8519], 'crs': 'SR-ORG:6974', 'crs_transform': [926.6254331383326, 0, -20015109.355797, 0, -926.6254331391667, 10007554.677903]}], 'properties': {'system:footprint': {'type': 'Polygon', 'coordinates': [[[99, 18], [100, 18], [100, 19], [99, 19], [99, 18]]]}, 'system:index': '2024_01_12'}}, {'type': 'Image', 'bands': [{'id': 'LST_Day_1km', 'data_type': {'type': 'PixelType', 'precision': 'double', 'min': -273.15, 'max': 1037.5500000000002}, 'dimensions': [182, 122], 'origin': [32832, 8519], 'crs': 'SR-ORG:6974', 'crs_transform': [926.6254331383326, 0, -20015109.355797, 0, -926.6254331391667, 10007554.677903]}], 'properties': {'system:footprint': {'type': 'Polygon', 'coordinates': [[[99, 18], [100, 18], [100, 19], [99, 19], [99, 18]]]}, 'system:index': '2024_01_13'}}, {'type': 'Image', 'bands': [{'id': 'LST_Day_1km', 'data_type': {'type': 'PixelType', 'precision': 'double', 'min': -273.15, 'max': 1037.5500000000002}, 'dimensions': [182, 122], 'origin': [32832, 8519], 'crs': 'SR-ORG:6974', 'crs_transform': [926.6254331383326, 0, -20015109.355797, 0, -926.6254331391667, 10007554.677903]}], 'properties': {'system:footprint': {'type': 'Polygon', 'coordinates': [[[99, 18], [100, 18], [100, 19], [99, 19], [99, 18]]]}, 'system:index': '2024_01_14'}}, {'type': 'Image', 'bands': [{'id': 'LST_Day_1km', 'data_type': {'type': 'PixelType', 'precision': 'double', 'min': -273.15, 'max': 1037.5500000000002}, 'dimensions': [182, 122], 'origin': [32832, 8519], 'crs': 'SR-ORG:6974', 'crs_transform': [926.6254331383326, 0, -20015109.355797, 0, -926.6254331391667, 10007554.677903]}], 'properties': {'system:footprint': {'type': 'Polygon', 'coordinates': [[[99, 18], [100, 18], [100, 19], [99, 19], [99, 18]]]}, 'system:index': '2024_01_15'}}, {'type': 'Image', 'bands': [{'id': 'LST_Day_1km', 'data_type': {'type': 'PixelType', 'precision': 'double', 'min': -273.15, 'max': 1037.5500000000002}, 'dimensions': [182, 122], 'origin': [32832, 8519], 'crs': 'SR-ORG:6974', 'crs_transform': [926.6254331383326, 0, -20015109.355797, 0, -926.6254331391667, 10007554.677903]}], 'properties': {'system:footprint': {'type': 'Polygon', 'coordinates': [[[99, 18], [100, 18], [100, 19], [99, 19], [99, 18]]]}, 'system:index': '2024_01_16'}}, {'type': 'Image', 'bands': [{'id': 'LST_Day_1km', 'data_type': {'type': 'PixelType', 'precision': 'double', 'min': -273.15, 'max': 1037.5500000000002}, 'dimensions': [182, 122], 'origin': [32832, 8519], 'crs': 'SR-ORG:6974', 'crs_transform': [926.6254331383326, 0, -20015109.355797, 0, -926.6254331391667, 10007554.677903]}], 'properties': {'system:footprint': {'type': 'Polygon', 'coordinates': [[[99, 18], [100, 18], [100, 19], [99, 19], [99, 18]]]}, 'system:index': '2024_01_17'}}, {'type': 'Image', 'bands': [{'id': 'LST_Day_1km', 'data_type': {'type': 'PixelType', 'precision': 'double', 'min': -273.15, 'max': 1037.5500000000002}, 'dimensions': [182, 122], 'origin': [32832, 8519], 'crs': 'SR-ORG:6974', 'crs_transform': [926.6254331383326, 0, -20015109.355797, 0, -926.6254331391667, 10007554.677903]}], 'properties': {'system:footprint': {'type': 'Polygon', 'coordinates': [[[99, 18], [100, 18], [100, 19], [99, 19], [99, 18]]]}, 'system:index': '2024_01_18'}}, {'type': 'Image', 'bands': [{'id': 'LST_Day_1km', 'data_type': {'type': 'PixelType', 'precision': 'double', 'min': -273.15, 'max': 1037.5500000000002}, 'dimensions': [182, 122], 'origin': [32832, 8519], 'crs': 'SR-ORG:6974', 'crs_transform': [926.6254331383326, 0, -20015109.355797, 0, -926.6254331391667, 10007554.677903]}], 'properties': {'system:footprint': {'type': 'Polygon', 'coordinates': [[[99, 18], [100, 18], [100, 19], [99, 19], [99, 18]]]}, 'system:index': '2024_01_19'}}, {'type': 'Image', 'bands': [{'id': 'LST_Day_1km', 'data_type': {'type': 'PixelType', 'precision': 'double', 'min': -273.15, 'max': 1037.5500000000002}, 'dimensions': [182, 122], 'origin': [32832, 8519], 'crs': 'SR-ORG:6974', 'crs_transform': [926.6254331383326, 0, -20015109.355797, 0, -926.6254331391667, 10007554.677903]}], 'properties': {'system:footprint': {'type': 'Polygon', 'coordinates': [[[99, 18], [100, 18], [100, 19], [99, 19], [99, 18]]]}, 'system:index': '2024_01_20'}}, {'type': 'Image', 'bands': [{'id': 'LST_Day_1km', 'data_type': {'type': 'PixelType', 'precision': 'double', 'min': -273.15, 'max': 1037.5500000000002}, 'dimensions': [182, 122], 'origin': [32832, 8519], 'crs': 'SR-ORG:6974', 'crs_transform': [926.6254331383326, 0, -20015109.355797, 0, -926.6254331391667, 10007554.677903]}], 'properties': {'system:footprint': {'type': 'Polygon', 'coordinates': [[[99, 18], [100, 18], [100, 19], [99, 19], [99, 18]]]}, 'system:index': '2024_01_21'}}, {'type': 'Image', 'bands': [{'id': 'LST_Day_1km', 'data_type': {'type': 'PixelType', 'precision': 'double', 'min': -273.15, 'max': 1037.5500000000002}, 'dimensions': [182, 122], 'origin': [32832, 8519], 'crs': 'SR-ORG:6974', 'crs_transform': [926.6254331383326, 0, -20015109.355797, 0, -926.6254331391667, 10007554.677903]}], 'properties': {'system:footprint': {'type': 'Polygon', 'coordinates': [[[99, 18], [100, 18], [100, 19], [99, 19], [99, 18]]]}, 'system:index': '2024_01_22'}}, {'type': 'Image', 'bands': [{'id': 'LST_Day_1km', 'data_type': {'type': 'PixelType', 'precision': 'double', 'min': -273.15, 'max': 1037.5500000000002}, 'dimensions': [182, 122], 'origin': [32832, 8519], 'crs': 'SR-ORG:6974', 'crs_transform': [926.6254331383326, 0, -20015109.355797, 0, -926.6254331391667, 10007554.677903]}], 'properties': {'system:footprint': {'type': 'Polygon', 'coordinates': [[[99, 18], [100, 18], [100, 19], [99, 19], [99, 18]]]}, 'system:index': '2024_01_23'}}, {'type': 'Image', 'bands': [{'id': 'LST_Day_1km', 'data_type': {'type': 'PixelType', 'precision': 'double', 'min': -273.15, 'max': 1037.5500000000002}, 'dimensions': [182, 122], 'origin': [32832, 8519], 'crs': 'SR-ORG:6974', 'crs_transform': [926.6254331383326, 0, -20015109.355797, 0, -926.6254331391667, 10007554.677903]}], 'properties': {'system:footprint': {'type': 'Polygon', 'coordinates': [[[99, 18], [100, 18], [100, 19], [99, 19], [99, 18]]]}, 'system:index': '2024_01_24'}}, {'type': 'Image', 'bands': [{'id': 'LST_Day_1km', 'data_type': {'type': 'PixelType', 'precision': 'double', 'min': -273.15, 'max': 1037.5500000000002}, 'dimensions': [182, 122], 'origin': [32832, 8519], 'crs': 'SR-ORG:6974', 'crs_transform': [926.6254331383326, 0, -20015109.355797, 0, -926.6254331391667, 10007554.677903]}], 'properties': {'system:footprint': {'type': 'Polygon', 'coordinates': [[[99, 18], [100, 18], [100, 19], [99, 19], [99, 18]]]}, 'system:index': '2024_01_25'}}, {'type': 'Image', 'bands': [{'id': 'LST_Day_1km', 'data_type': {'type': 'PixelType', 'precision': 'double', 'min': -273.15, 'max': 1037.5500000000002}, 'dimensions': [182, 122], 'origin': [32832, 8519], 'crs': 'SR-ORG:6974', 'crs_transform': [926.6254331383326, 0, -20015109.355797, 0, -926.6254331391667, 10007554.677903]}], 'properties': {'system:footprint': {'type': 'Polygon', 'coordinates': [[[99, 18], [100, 18], [100, 19], [99, 19], [99, 18]]]}, 'system:index': '2024_01_26'}}, {'type': 'Image', 'bands': [{'id': 'LST_Day_1km', 'data_type': {'type': 'PixelType', 'precision': 'double', 'min': -273.15, 'max': 1037.5500000000002}, 'dimensions': [182, 122], 'origin': [32832, 8519], 'crs': 'SR-ORG:6974', 'crs_transform': [926.6254331383326, 0, -20015109.355797, 0, -926.6254331391667, 10007554.677903]}], 'properties': {'system:footprint': {'type': 'Polygon', 'coordinates': [[[99, 18], [100, 18], [100, 19], [99, 19], [99, 18]]]}, 'system:index': '2024_01_27'}}, {'type': 'Image', 'bands': [{'id': 'LST_Day_1km', 'data_type': {'type': 'PixelType', 'precision': 'double', 'min': -273.15, 'max': 1037.5500000000002}, 'dimensions': [182, 122], 'origin': [32832, 8519], 'crs': 'SR-ORG:6974', 'crs_transform': [926.6254331383326, 0, -20015109.355797, 0, -926.6254331391667, 10007554.677903]}], 'properties': {'system:footprint': {'type': 'Polygon', 'coordinates': [[[99, 18], [100, 18], [100, 19], [99, 19], [99, 18]]]}, 'system:index': '2024_01_28'}}, {'type': 'Image', 'bands': [{'id': 'LST_Day_1km', 'data_type': {'type': 'PixelType', 'precision': 'double', 'min': -273.15, 'max': 1037.5500000000002}, 'dimensions': [182, 122], 'origin': [32832, 8519], 'crs': 'SR-ORG:6974', 'crs_transform': [926.6254331383326, 0, -20015109.355797, 0, -926.6254331391667, 10007554.677903]}], 'properties': {'system:footprint': {'type': 'Polygon', 'coordinates': [[[99, 18], [100, 18], [100, 19], [99, 19], [99, 18]]]}, 'system:index': '2024_01_29'}}, {'type': 'Image', 'bands': [{'id': 'LST_Day_1km', 'data_type': {'type': 'PixelType', 'precision': 'double', 'min': -273.15, 'max': 1037.5500000000002}, 'dimensions': [182, 122], 'origin': [32832, 8519], 'crs': 'SR-ORG:6974', 'crs_transform': [926.6254331383326, 0, -20015109.355797, 0, -926.6254331391667, 10007554.677903]}], 'properties': {'system:footprint': {'type': 'Polygon', 'coordinates': [[[99, 18], [100, 18], [100, 19], [99, 19], [99, 18]]]}, 'system:index': '2024_01_30'}}, {'type': 'Image', 'bands': [{'id': 'LST_Day_1km', 'data_type': {'type': 'PixelType', 'precision': 'double', 'min': -273.15, 'max': 1037.5500000000002}, 'dimensions': [182, 122], 'origin': [32832, 8519], 'crs': 'SR-ORG:6974', 'crs_transform': [926.6254331383326, 0, -20015109.355797, 0, -926.6254331391667, 10007554.677903]}], 'properties': {'system:footprint': {'type': 'Polygon', 'coordinates': [[[99, 18], [100, 18], [100, 19], [99, 19], [99, 18]]]}, 'system:index': '2024_01_31'}}, {'type': 'Image', 'bands': [{'id': 'LST_Day_1km', 'data_type': {'type': 'PixelType', 'precision': 'double', 'min': -273.15, 'max': 1037.5500000000002}, 'dimensions': [182, 122], 'origin': [32832, 8519], 'crs': 'SR-ORG:6974', 'crs_transform': [926.6254331383326, 0, -20015109.355797, 0, -926.6254331383333, 10007554.677893]}], 'properties': {'system:footprint': {'type': 'Polygon', 'coordinates': [[[99, 18], [100, 18], [100, 19], [99, 19], [99, 18]]]}, 'system:index': '2024_02_01'}}, {'type': 'Image', 'bands': [{'id': 'LST_Day_1km', 'data_type': {'type': 'PixelType', 'precision': 'double', 'min': -273.15, 'max': 1037.5500000000002}, 'dimensions': [182, 122], 'origin': [32832, 8519], 'crs': 'SR-ORG:6974', 'crs_transform': [926.6254331383326, 0, -20015109.355797, 0, -926.6254331391667, 10007554.677903]}], 'properties': {'system:footprint': {'type': 'Polygon', 'coordinates': [[[99, 18], [100, 18], [100, 19], [99, 19], [99, 18]]]}, 'system:index': '2024_02_02'}}, {'type': 'Image', 'bands': [{'id': 'LST_Day_1km', 'data_type': {'type': 'PixelType', 'precision': 'double', 'min': -273.15, 'max': 1037.5500000000002}, 'dimensions': [182, 122], 'origin': [32832, 8519], 'crs': 'SR-ORG:6974', 'crs_transform': [926.6254331383326, 0, -20015109.355797, 0, -926.6254331391667, 10007554.677903]}], 'properties': {'system:footprint': {'type': 'Polygon', 'coordinates': [[[99, 18], [100, 18], [100, 19], [99, 19], [99, 18]]]}, 'system:index': '2024_02_03'}}, {'type': 'Image', 'bands': [{'id': 'LST_Day_1km', 'data_type': {'type': 'PixelType', 'precision': 'double', 'min': -273.15, 'max': 1037.5500000000002}, 'dimensions': [182, 122], 'origin': [32832, 8519], 'crs': 'SR-ORG:6974', 'crs_transform': [926.6254331383326, 0, -20015109.355797, 0, -926.6254331391667, 10007554.677903]}], 'properties': {'system:footprint': {'type': 'Polygon', 'coordinates': [[[99, 18], [100, 18], [100, 19], [99, 19], [99, 18]]]}, 'system:index': '2024_02_04'}}, {'type': 'Image', 'bands': [{'id': 'LST_Day_1km', 'data_type': {'type': 'PixelType', 'precision': 'double', 'min': -273.15, 'max': 1037.5500000000002}, 'dimensions': [182, 122], 'origin': [32832, 8519], 'crs': 'SR-ORG:6974', 'crs_transform': [926.6254331383326, 0, -20015109.355797, 0, -926.6254331391667, 10007554.677903]}], 'properties': {'system:footprint': {'type': 'Polygon', 'coordinates': [[[99, 18], [100, 18], [100, 19], [99, 19], [99, 18]]]}, 'system:index': '2024_02_05'}}, {'type': 'Image', 'bands': [{'id': 'LST_Day_1km', 'data_type': {'type': 'PixelType', 'precision': 'double', 'min': -273.15, 'max': 1037.5500000000002}, 'dimensions': [182, 122], 'origin': [32832, 8519], 'crs': 'SR-ORG:6974', 'crs_transform': [926.6254331383326, 0, -20015109.355797, 0, -926.6254331391667, 10007554.677903]}], 'properties': {'system:footprint': {'type': 'Polygon', 'coordinates': [[[99, 18], [100, 18], [100, 19], [99, 19], [99, 18]]]}, 'system:index': '2024_02_06'}}, {'type': 'Image', 'bands': [{'id': 'LST_Day_1km', 'data_type': {'type': 'PixelType', 'precision': 'double', 'min': -273.15, 'max': 1037.5500000000002}, 'dimensions': [182, 122], 'origin': [32832, 8519], 'crs': 'SR-ORG:6974', 'crs_transform': [926.6254331383326, 0, -20015109.355797, 0, -926.6254331391667, 10007554.677903]}], 'properties': {'system:footprint': {'type': 'Polygon', 'coordinates': [[[99, 18], [100, 18], [100, 19], [99, 19], [99, 18]]]}, 'system:index': '2024_02_07'}}, {'type': 'Image', 'bands': [{'id': 'LST_Day_1km', 'data_type': {'type': 'PixelType', 'precision': 'double', 'min': -273.15, 'max': 1037.5500000000002}, 'dimensions': [182, 122], 'origin': [32832, 8519], 'crs': 'SR-ORG:6974', 'crs_transform': [926.6254331383326, 0, -20015109.355797, 0, -926.6254331391667, 10007554.677903]}], 'properties': {'system:footprint': {'type': 'Polygon', 'coordinates': [[[99, 18], [100, 18], [100, 19], [99, 19], [99, 18]]]}, 'system:index': '2024_02_08'}}, {'type': 'Image', 'bands': [{'id': 'LST_Day_1km', 'data_type': {'type': 'PixelType', 'precision': 'double', 'min': -273.15, 'max': 1037.5500000000002}, 'dimensions': [182, 122], 'origin': [32832, 8519], 'crs': 'SR-ORG:6974', 'crs_transform': [926.6254331383326, 0, -20015109.355797, 0, -926.6254331391667, 10007554.677903]}], 'properties': {'system:footprint': {'type': 'Polygon', 'coordinates': [[[99, 18], [100, 18], [100, 19], [99, 19], [99, 18]]]}, 'system:index': '2024_02_09'}}, {'type': 'Image', 'bands': [{'id': 'LST_Day_1km', 'data_type': {'type': 'PixelType', 'precision': 'double', 'min': -273.15, 'max': 1037.5500000000002}, 'dimensions': [182, 122], 'origin': [32832, 8519], 'crs': 'SR-ORG:6974', 'crs_transform': [926.6254331383326, 0, -20015109.355797, 0, -926.6254331391667, 10007554.677903]}], 'properties': {'system:footprint': {'type': 'Polygon', 'coordinates': [[[99, 18], [100, 18], [100, 19], [99, 19], [99, 18]]]}, 'system:index': '2024_02_10'}}, {'type': 'Image', 'bands': [{'id': 'LST_Day_1km', 'data_type': {'type': 'PixelType', 'precision': 'double', 'min': -273.15, 'max': 1037.5500000000002}, 'dimensions': [182, 122], 'origin': [32832, 8519], 'crs': 'SR-ORG:6974', 'crs_transform': [926.6254331383326, 0, -20015109.355797, 0, -926.6254331391667, 10007554.677903]}], 'properties': {'system:footprint': {'type': 'Polygon', 'coordinates': [[[99, 18], [100, 18], [100, 19], [99, 19], [99, 18]]]}, 'system:index': '2024_02_11'}}, {'type': 'Image', 'bands': [{'id': 'LST_Day_1km', 'data_type': {'type': 'PixelType', 'precision': 'double', 'min': -273.15, 'max': 1037.5500000000002}, 'dimensions': [182, 122], 'origin': [32832, 8519], 'crs': 'SR-ORG:6974', 'crs_transform': [926.6254331383326, 0, -20015109.355797, 0, -926.6254331391667, 10007554.677903]}], 'properties': {'system:footprint': {'type': 'Polygon', 'coordinates': [[[99, 18], [100, 18], [100, 19], [99, 19], [99, 18]]]}, 'system:index': '2024_02_12'}}, {'type': 'Image', 'bands': [{'id': 'LST_Day_1km', 'data_type': {'type': 'PixelType', 'precision': 'double', 'min': -273.15, 'max': 1037.5500000000002}, 'dimensions': [182, 122], 'origin': [32832, 8519], 'crs': 'SR-ORG:6974', 'crs_transform': [926.6254331383326, 0, -20015109.355797, 0, -926.6254331391667, 10007554.677903]}], 'properties': {'system:footprint': {'type': 'Polygon', 'coordinates': [[[99, 18], [100, 18], [100, 19], [99, 19], [99, 18]]]}, 'system:index': '2024_02_13'}}, {'type': 'Image', 'bands': [{'id': 'LST_Day_1km', 'data_type': {'type': 'PixelType', 'precision': 'double', 'min': -273.15, 'max': 1037.5500000000002}, 'dimensions': [182, 122], 'origin': [32832, 8519], 'crs': 'SR-ORG:6974', 'crs_transform': [926.6254331383326, 0, -20015109.355797, 0, -926.6254331391667, 10007554.677903]}], 'properties': {'system:footprint': {'type': 'Polygon', 'coordinates': [[[99, 18], [100, 18], [100, 19], [99, 19], [99, 18]]]}, 'system:index': '2024_02_14'}}, {'type': 'Image', 'bands': [{'id': 'LST_Day_1km', 'data_type': {'type': 'PixelType', 'precision': 'double', 'min': -273.15, 'max': 1037.5500000000002}, 'dimensions': [182, 122], 'origin': [32832, 8519], 'crs': 'SR-ORG:6974', 'crs_transform': [926.6254331383326, 0, -20015109.355797, 0, -926.6254331391667, 10007554.677903]}], 'properties': {'system:footprint': {'type': 'Polygon', 'coordinates': [[[99, 18], [100, 18], [100, 19], [99, 19], [99, 18]]]}, 'system:index': '2024_02_15'}}, {'type': 'Image', 'bands': [{'id': 'LST_Day_1km', 'data_type': {'type': 'PixelType', 'precision': 'double', 'min': -273.15, 'max': 1037.5500000000002}, 'dimensions': [182, 122], 'origin': [32832, 8519], 'crs': 'SR-ORG:6974', 'crs_transform': [926.6254331383326, 0, -20015109.355797, 0, -926.6254331391667, 10007554.677903]}], 'properties': {'system:footprint': {'type': 'Polygon', 'coordinates': [[[99, 18], [100, 18], [100, 19], [99, 19], [99, 18]]]}, 'system:index': '2024_02_16'}}, {'type': 'Image', 'bands': [{'id': 'LST_Day_1km', 'data_type': {'type': 'PixelType', 'precision': 'double', 'min': -273.15, 'max': 1037.5500000000002}, 'dimensions': [182, 122], 'origin': [32832, 8519], 'crs': 'SR-ORG:6974', 'crs_transform': [926.6254331383326, 0, -20015109.355797, 0, -926.6254331391667, 10007554.677903]}], 'properties': {'system:footprint': {'type': 'Polygon', 'coordinates': [[[99, 18], [100, 18], [100, 19], [99, 19], [99, 18]]]}, 'system:index': '2024_02_17'}}, {'type': 'Image', 'bands': [{'id': 'LST_Day_1km', 'data_type': {'type': 'PixelType', 'precision': 'double', 'min': -273.15, 'max': 1037.5500000000002}, 'dimensions': [182, 122], 'origin': [32832, 8519], 'crs': 'SR-ORG:6974', 'crs_transform': [926.6254331383326, 0, -20015109.355797, 0, -926.6254331391667, 10007554.677903]}], 'properties': {'system:footprint': {'type': 'Polygon', 'coordinates': [[[99, 18], [100, 18], [100, 19], [99, 19], [99, 18]]]}, 'system:index': '2024_02_18'}}, {'type': 'Image', 'bands': [{'id': 'LST_Day_1km', 'data_type': {'type': 'PixelType', 'precision': 'double', 'min': -273.15, 'max': 1037.5500000000002}, 'dimensions': [182, 122], 'origin': [32832, 8519], 'crs': 'SR-ORG:6974', 'crs_transform': [926.6254331383326, 0, -20015109.355797, 0, -926.6254331391667, 10007554.677903]}], 'properties': {'system:footprint': {'type': 'Polygon', 'coordinates': [[[99, 18], [100, 18], [100, 19], [99, 19], [99, 18]]]}, 'system:index': '2024_02_19'}}, {'type': 'Image', 'bands': [{'id': 'LST_Day_1km', 'data_type': {'type': 'PixelType', 'precision': 'double', 'min': -273.15, 'max': 1037.5500000000002}, 'dimensions': [182, 122], 'origin': [32832, 8519], 'crs': 'SR-ORG:6974', 'crs_transform': [926.6254331383326, 0, -20015109.355797, 0, -926.6254331391667, 10007554.677903]}], 'properties': {'system:footprint': {'type': 'Polygon', 'coordinates': [[[99, 18], [100, 18], [100, 19], [99, 19], [99, 18]]]}, 'system:index': '2024_02_20'}}, {'type': 'Image', 'bands': [{'id': 'LST_Day_1km', 'data_type': {'type': 'PixelType', 'precision': 'double', 'min': -273.15, 'max': 1037.5500000000002}, 'dimensions': [182, 122], 'origin': [32832, 8519], 'crs': 'SR-ORG:6974', 'crs_transform': [926.6254331383326, 0, -20015109.355797, 0, -926.6254331391667, 10007554.677903]}], 'properties': {'system:footprint': {'type': 'Polygon', 'coordinates': [[[99, 18], [100, 18], [100, 19], [99, 19], [99, 18]]]}, 'system:index': '2024_02_21'}}, {'type': 'Image', 'bands': [{'id': 'LST_Day_1km', 'data_type': {'type': 'PixelType', 'precision': 'double', 'min': -273.15, 'max': 1037.5500000000002}, 'dimensions': [182, 122], 'origin': [32832, 8519], 'crs': 'SR-ORG:6974', 'crs_transform': [926.6254331383326, 0, -20015109.355797, 0, -926.6254331391667, 10007554.677903]}], 'properties': {'system:footprint': {'type': 'Polygon', 'coordinates': [[[99, 18], [100, 18], [100, 19], [99, 19], [99, 18]]]}, 'system:index': '2024_02_22'}}, {'type': 'Image', 'bands': [{'id': 'LST_Day_1km', 'data_type': {'type': 'PixelType', 'precision': 'double', 'min': -273.15, 'max': 1037.5500000000002}, 'dimensions': [182, 122], 'origin': [32832, 8519], 'crs': 'SR-ORG:6974', 'crs_transform': [926.6254331383326, 0, -20015109.355797, 0, -926.6254331391667, 10007554.677903]}], 'properties': {'system:footprint': {'type': 'Polygon', 'coordinates': [[[99, 18], [100, 18], [100, 19], [99, 19], [99, 18]]]}, 'system:index': '2024_02_23'}}, {'type': 'Image', 'bands': [{'id': 'LST_Day_1km', 'data_type': {'type': 'PixelType', 'precision': 'double', 'min': -273.15, 'max': 1037.5500000000002}, 'dimensions': [182, 122], 'origin': [32832, 8519], 'crs': 'SR-ORG:6974', 'crs_transform': [926.6254331383326, 0, -20015109.355797, 0, -926.6254331391667, 10007554.677903]}], 'properties': {'system:footprint': {'type': 'Polygon', 'coordinates': [[[99, 18], [100, 18], [100, 19], [99, 19], [99, 18]]]}, 'system:index': '2024_02_24'}}, {'type': 'Image', 'bands': [{'id': 'LST_Day_1km', 'data_type': {'type': 'PixelType', 'precision': 'double', 'min': -273.15, 'max': 1037.5500000000002}, 'dimensions': [182, 122], 'origin': [32832, 8519], 'crs': 'SR-ORG:6974', 'crs_transform': [926.6254331383326, 0, -20015109.355797, 0, -926.6254331391667, 10007554.677903]}], 'properties': {'system:footprint': {'type': 'Polygon', 'coordinates': [[[99, 18], [100, 18], [100, 19], [99, 19], [99, 18]]]}, 'system:index': '2024_02_25'}}, {'type': 'Image', 'bands': [{'id': 'LST_Day_1km', 'data_type': {'type': 'PixelType', 'precision': 'double', 'min': -273.15, 'max': 1037.5500000000002}, 'dimensions': [182, 122], 'origin': [32832, 8519], 'crs': 'SR-ORG:6974', 'crs_transform': [926.6254331383326, 0, -20015109.355797, 0, -926.6254331391667, 10007554.677903]}], 'properties': {'system:footprint': {'type': 'Polygon', 'coordinates': [[[99, 18], [100, 18], [100, 19], [99, 19], [99, 18]]]}, 'system:index': '2024_02_26'}}, {'type': 'Image', 'bands': [{'id': 'LST_Day_1km', 'data_type': {'type': 'PixelType', 'precision': 'double', 'min': -273.15, 'max': 1037.5500000000002}, 'dimensions': [182, 122], 'origin': [32832, 8519], 'crs': 'SR-ORG:6974', 'crs_transform': [926.6254331383326, 0, -20015109.355797, 0, -926.6254331391667, 10007554.677903]}], 'properties': {'system:footprint': {'type': 'Polygon', 'coordinates': [[[99, 18], [100, 18], [100, 19], [99, 19], [99, 18]]]}, 'system:index': '2024_02_27'}}, {'type': 'Image', 'bands': [{'id': 'LST_Day_1km', 'data_type': {'type': 'PixelType', 'precision': 'double', 'min': -273.15, 'max': 1037.5500000000002}, 'dimensions': [182, 122], 'origin': [32832, 8519], 'crs': 'SR-ORG:6974', 'crs_transform': [926.6254331383326, 0, -20015109.355797, 0, -926.6254331391667, 10007554.677903]}], 'properties': {'system:footprint': {'type': 'Polygon', 'coordinates': [[[99, 18], [100, 18], [100, 19], [99, 19], [99, 18]]]}, 'system:index': '2024_02_28'}}, {'type': 'Image', 'bands': [{'id': 'LST_Day_1km', 'data_type': {'type': 'PixelType', 'precision': 'double', 'min': -273.15, 'max': 1037.5500000000002}, 'dimensions': [182, 122], 'origin': [32832, 8519], 'crs': 'SR-ORG:6974', 'crs_transform': [926.6254331383326, 0, -20015109.355797, 0, -926.6254331391667, 10007554.677903]}], 'properties': {'system:footprint': {'type': 'Polygon', 'coordinates': [[[99, 18], [100, 18], [100, 19], [99, 19], [99, 18]]]}, 'system:index': '2024_02_29'}}, {'type': 'Image', 'bands': [{'id': 'LST_Day_1km', 'data_type': {'type': 'PixelType', 'precision': 'double', 'min': -273.15, 'max': 1037.5500000000002}, 'dimensions': [182, 122], 'origin': [32832, 8519], 'crs': 'SR-ORG:6974', 'crs_transform': [926.6254331383326, 0, -20015109.355797, 0, -926.6254331391667, 10007554.677903]}], 'properties': {'system:footprint': {'type': 'Polygon', 'coordinates': [[[99, 18], [100, 18], [100, 19], [99, 19], [99, 18]]]}, 'system:index': '2024_03_01'}}, {'type': 'Image', 'bands': [{'id': 'LST_Day_1km', 'data_type': {'type': 'PixelType', 'precision': 'double', 'min': -273.15, 'max': 1037.5500000000002}, 'dimensions': [182, 122], 'origin': [32832, 8519], 'crs': 'SR-ORG:6974', 'crs_transform': [926.6254331383326, 0, -20015109.355797, 0, -926.6254331391667, 10007554.677903]}], 'properties': {'system:footprint': {'type': 'Polygon', 'coordinates': [[[99, 18], [100, 18], [100, 19], [99, 19], [99, 18]]]}, 'system:index': '2024_03_02'}}, {'type': 'Image', 'bands': [{'id': 'LST_Day_1km', 'data_type': {'type': 'PixelType', 'precision': 'double', 'min': -273.15, 'max': 1037.5500000000002}, 'dimensions': [182, 122], 'origin': [32832, 8519], 'crs': 'SR-ORG:6974', 'crs_transform': [926.6254331383326, 0, -20015109.355797, 0, -926.6254331391667, 10007554.677903]}], 'properties': {'system:footprint': {'type': 'Polygon', 'coordinates': [[[99, 18], [100, 18], [100, 19], [99, 19], [99, 18]]]}, 'system:index': '2024_03_03'}}, {'type': 'Image', 'bands': [{'id': 'LST_Day_1km', 'data_type': {'type': 'PixelType', 'precision': 'double', 'min': -273.15, 'max': 1037.5500000000002}, 'dimensions': [182, 122], 'origin': [32832, 8519], 'crs': 'SR-ORG:6974', 'crs_transform': [926.6254331383326, 0, -20015109.355797, 0, -926.6254331391667, 10007554.677903]}], 'properties': {'system:footprint': {'type': 'Polygon', 'coordinates': [[[99, 18], [100, 18], [100, 19], [99, 19], [99, 18]]]}, 'system:index': '2024_03_04'}}, {'type': 'Image', 'bands': [{'id': 'LST_Day_1km', 'data_type': {'type': 'PixelType', 'precision': 'double', 'min': -273.15, 'max': 1037.5500000000002}, 'dimensions': [182, 122], 'origin': [32832, 8519], 'crs': 'SR-ORG:6974', 'crs_transform': [926.6254331383326, 0, -20015109.355797, 0, -926.6254331391667, 10007554.677903]}], 'properties': {'system:footprint': {'type': 'Polygon', 'coordinates': [[[99, 18], [100, 18], [100, 19], [99, 19], [99, 18]]]}, 'system:index': '2024_03_05'}}, {'type': 'Image', 'bands': [{'id': 'LST_Day_1km', 'data_type': {'type': 'PixelType', 'precision': 'double', 'min': -273.15, 'max': 1037.5500000000002}, 'dimensions': [182, 122], 'origin': [32832, 8519], 'crs': 'SR-ORG:6974', 'crs_transform': [926.6254331383326, 0, -20015109.355797, 0, -926.6254331391667, 10007554.677903]}], 'properties': {'system:footprint': {'type': 'Polygon', 'coordinates': [[[99, 18], [100, 18], [100, 19], [99, 19], [99, 18]]]}, 'system:index': '2024_03_06'}}, {'type': 'Image', 'bands': [{'id': 'LST_Day_1km', 'data_type': {'type': 'PixelType', 'precision': 'double', 'min': -273.15, 'max': 1037.5500000000002}, 'dimensions': [182, 122], 'origin': [32832, 8519], 'crs': 'SR-ORG:6974', 'crs_transform': [926.6254331383326, 0, -20015109.355797, 0, -926.6254331391667, 10007554.677903]}], 'properties': {'system:footprint': {'type': 'Polygon', 'coordinates': [[[99, 18], [100, 18], [100, 19], [99, 19], [99, 18]]]}, 'system:index': '2024_03_07'}}, {'type': 'Image', 'bands': [{'id': 'LST_Day_1km', 'data_type': {'type': 'PixelType', 'precision': 'double', 'min': -273.15, 'max': 1037.5500000000002}, 'dimensions': [182, 122], 'origin': [32832, 8519], 'crs': 'SR-ORG:6974', 'crs_transform': [926.6254331383326, 0, -20015109.355797, 0, -926.6254331391667, 10007554.677903]}], 'properties': {'system:footprint': {'type': 'Polygon', 'coordinates': [[[99, 18], [100, 18], [100, 19], [99, 19], [99, 18]]]}, 'system:index': '2024_03_08'}}, {'type': 'Image', 'bands': [{'id': 'LST_Day_1km', 'data_type': {'type': 'PixelType', 'precision': 'double', 'min': -273.15, 'max': 1037.5500000000002}, 'dimensions': [182, 122], 'origin': [32832, 8519], 'crs': 'SR-ORG:6974', 'crs_transform': [926.6254331383326, 0, -20015109.355797, 0, -926.6254331391667, 10007554.677903]}], 'properties': {'system:footprint': {'type': 'Polygon', 'coordinates': [[[99, 18], [100, 18], [100, 19], [99, 19], [99, 18]]]}, 'system:index': '2024_03_09'}}, {'type': 'Image', 'bands': [{'id': 'LST_Day_1km', 'data_type': {'type': 'PixelType', 'precision': 'double', 'min': -273.15, 'max': 1037.5500000000002}, 'dimensions': [182, 122], 'origin': [32832, 8519], 'crs': 'SR-ORG:6974', 'crs_transform': [926.6254331383326, 0, -20015109.355797, 0, -926.6254331391667, 10007554.677903]}], 'properties': {'system:footprint': {'type': 'Polygon', 'coordinates': [[[99, 18], [100, 18], [100, 19], [99, 19], [99, 18]]]}, 'system:index': '2024_03_10'}}, {'type': 'Image', 'bands': [{'id': 'LST_Day_1km', 'data_type': {'type': 'PixelType', 'precision': 'double', 'min': -273.15, 'max': 1037.5500000000002}, 'dimensions': [182, 122], 'origin': [32832, 8519], 'crs': 'SR-ORG:6974', 'crs_transform': [926.6254331383326, 0, -20015109.355797, 0, -926.6254331391667, 10007554.677903]}], 'properties': {'system:footprint': {'type': 'Polygon', 'coordinates': [[[99, 18], [100, 18], [100, 19], [99, 19], [99, 18]]]}, 'system:index': '2024_03_11'}}, {'type': 'Image', 'bands': [{'id': 'LST_Day_1km', 'data_type': {'type': 'PixelType', 'precision': 'double', 'min': -273.15, 'max': 1037.5500000000002}, 'dimensions': [182, 122], 'origin': [32832, 8519], 'crs': 'SR-ORG:6974', 'crs_transform': [926.6254331383326, 0, -20015109.355797, 0, -926.6254331391667, 10007554.677903]}], 'properties': {'system:footprint': {'type': 'Polygon', 'coordinates': [[[99, 18], [100, 18], [100, 19], [99, 19], [99, 18]]]}, 'system:index': '2024_03_12'}}, {'type': 'Image', 'bands': [{'id': 'LST_Day_1km', 'data_type': {'type': 'PixelType', 'precision': 'double', 'min': -273.15, 'max': 1037.5500000000002}, 'dimensions': [182, 122], 'origin': [32832, 8519], 'crs': 'SR-ORG:6974', 'crs_transform': [926.6254331383326, 0, -20015109.355797, 0, -926.6254331391667, 10007554.677903]}], 'properties': {'system:footprint': {'type': 'Polygon', 'coordinates': [[[99, 18], [100, 18], [100, 19], [99, 19], [99, 18]]]}, 'system:index': '2024_03_13'}}, {'type': 'Image', 'bands': [{'id': 'LST_Day_1km', 'data_type': {'type': 'PixelType', 'precision': 'double', 'min': -273.15, 'max': 1037.5500000000002}, 'dimensions': [182, 122], 'origin': [32832, 8519], 'crs': 'SR-ORG:6974', 'crs_transform': [926.6254331383326, 0, -20015109.355797, 0, -926.6254331391667, 10007554.677903]}], 'properties': {'system:footprint': {'type': 'Polygon', 'coordinates': [[[99, 18], [100, 18], [100, 19], [99, 19], [99, 18]]]}, 'system:index': '2024_03_14'}}, {'type': 'Image', 'bands': [{'id': 'LST_Day_1km', 'data_type': {'type': 'PixelType', 'precision': 'double', 'min': -273.15, 'max': 1037.5500000000002}, 'dimensions': [182, 122], 'origin': [32832, 8519], 'crs': 'SR-ORG:6974', 'crs_transform': [926.6254331383326, 0, -20015109.355797, 0, -926.6254331391667, 10007554.677903]}], 'properties': {'system:footprint': {'type': 'Polygon', 'coordinates': [[[99, 18], [100, 18], [100, 19], [99, 19], [99, 18]]]}, 'system:index': '2024_03_15'}}, {'type': 'Image', 'bands': [{'id': 'LST_Day_1km', 'data_type': {'type': 'PixelType', 'precision': 'double', 'min': -273.15, 'max': 1037.5500000000002}, 'dimensions': [182, 122], 'origin': [32832, 8519], 'crs': 'SR-ORG:6974', 'crs_transform': [926.6254331383326, 0, -20015109.355797, 0, -926.6254331391667, 10007554.677903]}], 'properties': {'system:footprint': {'type': 'Polygon', 'coordinates': [[[99, 18], [100, 18], [100, 19], [99, 19], [99, 18]]]}, 'system:index': '2024_03_16'}}, {'type': 'Image', 'bands': [{'id': 'LST_Day_1km', 'data_type': {'type': 'PixelType', 'precision': 'double', 'min': -273.15, 'max': 1037.5500000000002}, 'dimensions': [182, 122], 'origin': [32832, 8519], 'crs': 'SR-ORG:6974', 'crs_transform': [926.6254331383326, 0, -20015109.355797, 0, -926.6254331391667, 10007554.677903]}], 'properties': {'system:footprint': {'type': 'Polygon', 'coordinates': [[[99, 18], [100, 18], [100, 19], [99, 19], [99, 18]]]}, 'system:index': '2024_03_17'}}, {'type': 'Image', 'bands': [{'id': 'LST_Day_1km', 'data_type': {'type': 'PixelType', 'precision': 'double', 'min': -273.15, 'max': 1037.5500000000002}, 'dimensions': [182, 122], 'origin': [32832, 8519], 'crs': 'SR-ORG:6974', 'crs_transform': [926.6254331383326, 0, -20015109.355797, 0, -926.6254331391667, 10007554.677903]}], 'properties': {'system:footprint': {'type': 'Polygon', 'coordinates': [[[99, 18], [100, 18], [100, 19], [99, 19], [99, 18]]]}, 'system:index': '2024_03_18'}}, {'type': 'Image', 'bands': [{'id': 'LST_Day_1km', 'data_type': {'type': 'PixelType', 'precision': 'double', 'min': -273.15, 'max': 1037.5500000000002}, 'dimensions': [182, 122], 'origin': [32832, 8519], 'crs': 'SR-ORG:6974', 'crs_transform': [926.6254331383326, 0, -20015109.355797, 0, -926.6254331391667, 10007554.677903]}], 'properties': {'system:footprint': {'type': 'Polygon', 'coordinates': [[[99, 18], [100, 18], [100, 19], [99, 19], [99, 18]]]}, 'system:index': '2024_03_19'}}, {'type': 'Image', 'bands': [{'id': 'LST_Day_1km', 'data_type': {'type': 'PixelType', 'precision': 'double', 'min': -273.15, 'max': 1037.5500000000002}, 'dimensions': [182, 122], 'origin': [32832, 8519], 'crs': 'SR-ORG:6974', 'crs_transform': [926.6254331383326, 0, -20015109.355797, 0, -926.6254331391667, 10007554.677903]}], 'properties': {'system:footprint': {'type': 'Polygon', 'coordinates': [[[99, 18], [100, 18], [100, 19], [99, 19], [99, 18]]]}, 'system:index': '2024_03_20'}}, {'type': 'Image', 'bands': [{'id': 'LST_Day_1km', 'data_type': {'type': 'PixelType', 'precision': 'double', 'min': -273.15, 'max': 1037.5500000000002}, 'dimensions': [182, 122], 'origin': [32832, 8519], 'crs': 'SR-ORG:6974', 'crs_transform': [926.6254331383326, 0, -20015109.355797, 0, -926.6254331391667, 10007554.677903]}], 'properties': {'system:footprint': {'type': 'Polygon', 'coordinates': [[[99, 18], [100, 18], [100, 19], [99, 19], [99, 18]]]}, 'system:index': '2024_03_21'}}, {'type': 'Image', 'bands': [{'id': 'LST_Day_1km', 'data_type': {'type': 'PixelType', 'precision': 'double', 'min': -273.15, 'max': 1037.5500000000002}, 'dimensions': [182, 122], 'origin': [32832, 8519], 'crs': 'SR-ORG:6974', 'crs_transform': [926.6254331383326, 0, -20015109.355797, 0, -926.6254331391667, 10007554.677903]}], 'properties': {'system:footprint': {'type': 'Polygon', 'coordinates': [[[99, 18], [100, 18], [100, 19], [99, 19], [99, 18]]]}, 'system:index': '2024_03_22'}}, {'type': 'Image', 'bands': [{'id': 'LST_Day_1km', 'data_type': {'type': 'PixelType', 'precision': 'double', 'min': -273.15, 'max': 1037.5500000000002}, 'dimensions': [182, 122], 'origin': [32832, 8519], 'crs': 'SR-ORG:6974', 'crs_transform': [926.6254331383326, 0, -20015109.355797, 0, -926.6254331391667, 10007554.677903]}], 'properties': {'system:footprint': {'type': 'Polygon', 'coordinates': [[[99, 18], [100, 18], [100, 19], [99, 19], [99, 18]]]}, 'system:index': '2024_03_23'}}, {'type': 'Image', 'bands': [{'id': 'LST_Day_1km', 'data_type': {'type': 'PixelType', 'precision': 'double', 'min': -273.15, 'max': 1037.5500000000002}, 'dimensions': [182, 122], 'origin': [32832, 8519], 'crs': 'SR-ORG:6974', 'crs_transform': [926.6254331383326, 0, -20015109.355797, 0, -926.6254331391667, 10007554.677903]}], 'properties': {'system:footprint': {'type': 'Polygon', 'coordinates': [[[99, 18], [100, 18], [100, 19], [99, 19], [99, 18]]]}, 'system:index': '2024_03_24'}}, {'type': 'Image', 'bands': [{'id': 'LST_Day_1km', 'data_type': {'type': 'PixelType', 'precision': 'double', 'min': -273.15, 'max': 1037.5500000000002}, 'dimensions': [182, 122], 'origin': [32832, 8519], 'crs': 'SR-ORG:6974', 'crs_transform': [926.6254331383326, 0, -20015109.355797, 0, -926.6254331391667, 10007554.677903]}], 'properties': {'system:footprint': {'type': 'Polygon', 'coordinates': [[[99, 18], [100, 18], [100, 19], [99, 19], [99, 18]]]}, 'system:index': '2024_03_25'}}, {'type': 'Image', 'bands': [{'id': 'LST_Day_1km', 'data_type': {'type': 'PixelType', 'precision': 'double', 'min': -273.15, 'max': 1037.5500000000002}, 'dimensions': [182, 122], 'origin': [32832, 8519], 'crs': 'SR-ORG:6974', 'crs_transform': [926.6254331383326, 0, -20015109.355797, 0, -926.6254331391667, 10007554.677903]}], 'properties': {'system:footprint': {'type': 'Polygon', 'coordinates': [[[99, 18], [100, 18], [100, 19], [99, 19], [99, 18]]]}, 'system:index': '2024_03_26'}}, {'type': 'Image', 'bands': [{'id': 'LST_Day_1km', 'data_type': {'type': 'PixelType', 'precision': 'double', 'min': -273.15, 'max': 1037.5500000000002}, 'dimensions': [182, 122], 'origin': [32832, 8519], 'crs': 'SR-ORG:6974', 'crs_transform': [926.6254331383326, 0, -20015109.355797, 0, -926.6254331391667, 10007554.677903]}], 'properties': {'system:footprint': {'type': 'Polygon', 'coordinates': [[[99, 18], [100, 18], [100, 19], [99, 19], [99, 18]]]}, 'system:index': '2024_03_27'}}, {'type': 'Image', 'bands': [{'id': 'LST_Day_1km', 'data_type': {'type': 'PixelType', 'precision': 'double', 'min': -273.15, 'max': 1037.5500000000002}, 'dimensions': [182, 122], 'origin': [32832, 8519], 'crs': 'SR-ORG:6974', 'crs_transform': [926.6254331383326, 0, -20015109.355797, 0, -926.6254331391667, 10007554.677903]}], 'properties': {'system:footprint': {'type': 'Polygon', 'coordinates': [[[99, 18], [100, 18], [100, 19], [99, 19], [99, 18]]]}, 'system:index': '2024_03_28'}}, {'type': 'Image', 'bands': [{'id': 'LST_Day_1km', 'data_type': {'type': 'PixelType', 'precision': 'double', 'min': -273.15, 'max': 1037.5500000000002}, 'dimensions': [182, 122], 'origin': [32832, 8519], 'crs': 'SR-ORG:6974', 'crs_transform': [926.6254331383326, 0, -20015109.355797, 0, -926.6254331391667, 10007554.677903]}], 'properties': {'system:footprint': {'type': 'Polygon', 'coordinates': [[[99, 18], [100, 18], [100, 19], [99, 19], [99, 18]]]}, 'system:index': '2024_03_29'}}, {'type': 'Image', 'bands': [{'id': 'LST_Day_1km', 'data_type': {'type': 'PixelType', 'precision': 'double', 'min': -273.15, 'max': 1037.5500000000002}, 'dimensions': [182, 122], 'origin': [32832, 8519], 'crs': 'SR-ORG:6974', 'crs_transform': [926.6254331383326, 0, -20015109.355797, 0, -926.6254331391667, 10007554.677903]}], 'properties': {'system:footprint': {'type': 'Polygon', 'coordinates': [[[99, 18], [100, 18], [100, 19], [99, 19], [99, 18]]]}, 'system:index': '2024_03_30'}}]}\n"
     ]
    }
   ],
   "source": [
    "# lst from modis\n",
    "modis = ee.ImageCollection('MODIS/061/MOD11A1') \\\n",
    "    .filterDate('2023-11-01', '2024-03-31') \\\n",
    "    .select('LST_Day_1km') \\\n",
    "    .map(lambda image: image.clip(roi))\n",
    "\n",
    "# kavin to celsius\n",
    "cs = modis.map(lambda image: image.multiply(0.02).subtract(273.15))\n",
    "\n",
    "print(cs.getInfo())\n",
    "\n",
    "# visualization parameters\n",
    "lstParams = {\n",
    "    min: 35.0,\n",
    "    max: 40.0,\n",
    "    'palette':['blue', 'white', 'green'],\n",
    "}\n",
    "# add to map\n",
    "m.addLayer(cs, lstParams, 'MODIS LST')\n",
    "\n"
   ]
  },
  {
   "cell_type": "code",
   "execution_count": null,
   "metadata": {},
   "outputs": [],
   "source": [
    "# show the map\n",
    "m"
   ]
  }
 ],
 "metadata": {
  "kernelspec": {
   "display_name": "geo",
   "language": "python",
   "name": "python3"
  },
  "language_info": {
   "codemirror_mode": {
    "name": "ipython",
    "version": 3
   },
   "file_extension": ".py",
   "mimetype": "text/x-python",
   "name": "python",
   "nbconvert_exporter": "python",
   "pygments_lexer": "ipython3",
   "version": "3.12.1"
  }
 },
 "nbformat": 4,
 "nbformat_minor": 2
}
