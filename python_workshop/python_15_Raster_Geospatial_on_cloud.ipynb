{
 "cells": [
  {
   "cell_type": "markdown",
   "metadata": {},
   "source": [
    "<a href=\"https://colab.research.google.com/github/dookda/py499/blob/main/python_15_Raster_Geospatial_on_cloud.ipynb\" target=\"_parent\"><img src=\"https://colab.research.google.com/assets/colab-badge.svg\" alt=\"Open In Colab\"/></a>"
   ]
  },
  {
   "cell_type": "code",
   "execution_count": null,
   "metadata": {},
   "outputs": [],
   "source": [
    "!pip install earthengine-api"
   ]
  },
  {
   "cell_type": "code",
   "execution_count": null,
   "metadata": {},
   "outputs": [],
   "source": [
    "import ee\n",
    "\n",
    "# Authenticate the Earth Engine library.\n",
    "ee.Authenticate()\n",
    "\n",
    "# Initialize the library.\n",
    "ee.Initialize()\n"
   ]
  },
  {
   "cell_type": "code",
   "execution_count": null,
   "metadata": {},
   "outputs": [],
   "source": [
    "import ee\n",
    "import folium\n",
    "from folium.plugins import MarkerCluster\n",
    "import geemap.core as geemap\n",
    "\n",
    "m = geemap.Map()\n",
    "m.set_center(99, 18.80, 8)"
   ]
  },
  {
   "cell_type": "code",
   "execution_count": null,
   "metadata": {},
   "outputs": [],
   "source": [
    "roi = ee.Geometry.Polygon(\n",
    "    [[[99.0, 18.0],\n",
    "      [99.0, 19.0],\n",
    "      [100.0, 19.0],\n",
    "      [100.0, 18.0],\n",
    "      [99.0, 18.0]]]\n",
    ")\n",
    "\n",
    "print(roi.getInfo())"
   ]
  },
  {
   "cell_type": "code",
   "execution_count": null,
   "metadata": {},
   "outputs": [],
   "source": [
    "# add to feature collection\n",
    "fc = ee.FeatureCollection([\n",
    "    ee.Feature(roi)\n",
    "])\n",
    "\n",
    "# add name to property\n",
    "fc = fc.set('name', 'Chiang Mai')\n",
    "\n",
    "print(fc.getInfo())\n",
    "\n",
    "m.addLayer(fc, {}, 'roi')"
   ]
  },
  {
   "cell_type": "code",
   "execution_count": null,
   "metadata": {},
   "outputs": [],
   "source": [
    "ls9 = ee.ImageCollection('LANDSAT/LC09/C02/T1_L2') \\\n",
    "            .filterDate('2023-11-01', '2024-01-31') \\\n",
    "            .filterBounds(roi)\n",
    "\n",
    "# try to filter by roi"
   ]
  },
  {
   "cell_type": "code",
   "execution_count": null,
   "metadata": {},
   "outputs": [],
   "source": [
    "# Scale factors for radiance data\n",
    "def apply_scale_factors(image):\n",
    "  optical_bands = image.select('SR_B.').multiply(0.0000275).add(-0.2)\n",
    "  thermal_bands = image.select('ST_B.*').multiply(0.00341802).add(149.0)\n",
    "  return image.addBands(optical_bands, None, True).addBands(\n",
    "      thermal_bands, None, True\n",
    "  )\n",
    "\n",
    "# apply scale factors to the dataset\n",
    "dataset = ls9.map(apply_scale_factors)"
   ]
  },
  {
   "cell_type": "code",
   "execution_count": null,
   "metadata": {},
   "outputs": [],
   "source": [
    "# clip the image with roi\n",
    "dataset = dataset.map(lambda image: image.clip(roi))"
   ]
  },
  {
   "cell_type": "code",
   "execution_count": null,
   "metadata": {},
   "outputs": [],
   "source": [
    "# True color visualization\n",
    "vis_true = {\n",
    "    'bands': ['SR_B4', 'SR_B3', 'SR_B2'],\n",
    "    'min': 0.0,\n",
    "    'max': 0.3,\n",
    "}\n",
    "\n",
    "# False color visualization\n",
    "vis_false = {\n",
    "    'bands': ['SR_B5', 'SR_B4', 'SR_B3'],\n",
    "    'min': 0.0,\n",
    "    'max': 0.3,\n",
    "}"
   ]
  },
  {
   "cell_type": "code",
   "execution_count": null,
   "metadata": {},
   "outputs": [],
   "source": [
    "# add to map\n",
    "m.add_layer(dataset, vis_true, 'True Color (432)')"
   ]
  },
  {
   "cell_type": "code",
   "execution_count": null,
   "metadata": {},
   "outputs": [],
   "source": [
    "# reduces an image collectionmedian to mean, max, min \n",
    "median = dataset.median()\n",
    "mean = dataset.mean()\n",
    "max = dataset.max()\n",
    "min = dataset.min()\n",
    "\n",
    "# try to add to map\n",
    "m.add_layer(median, vis_true, 'Median')\n",
    "m.add_layer(min, vis_true, 'min')"
   ]
  },
  {
   "cell_type": "code",
   "execution_count": null,
   "metadata": {},
   "outputs": [],
   "source": [
    "\n",
    "m.addLayer(dataset, vis_false, 'False color image')"
   ]
  },
  {
   "cell_type": "code",
   "execution_count": null,
   "metadata": {},
   "outputs": [],
   "source": [
    "# NDVI visualization\n",
    "def addNDVI(image):\n",
    "    ndvi = image.normalizedDifference(['SR_B5', 'SR_B4']).rename('NDVI')\n",
    "    return image.addBands(ndvi)\n",
    "\n",
    "dataset = dataset.map(addNDVI)\n",
    "ndvi = dataset.select('NDVI')\n",
    "ndviParams = {'palette': ['blue', 'white', 'green']}\n",
    "m.addLayer(ndvi, ndviParams, 'NDVI')"
   ]
  },
  {
   "cell_type": "code",
   "execution_count": null,
   "metadata": {},
   "outputs": [],
   "source": [
    "# lst from modis\n",
    "modis = ee.ImageCollection('MODIS/061/MOD11A1') \\\n",
    "    .filterDate('2023-11-01', '2024-03-31') \\\n",
    "    .select('LST_Day_1km') \\\n",
    "    .map(lambda image: image.clip(roi))\n",
    "\n",
    "# kavin to celsius\n",
    "cs = modis.map(lambda image: image.multiply(0.02).subtract(273.15))\n",
    "\n",
    "print(cs.getInfo())\n",
    "\n",
    "# visualization parameters\n",
    "lstParams = {\n",
    "    min: 35.0,\n",
    "    max: 40.0,\n",
    "    'palette':['blue', 'white', 'green'],\n",
    "}\n",
    "# add to map\n",
    "m.addLayer(cs, lstParams, 'MODIS LST')\n",
    "\n"
   ]
  },
  {
   "cell_type": "code",
   "execution_count": null,
   "metadata": {},
   "outputs": [],
   "source": [
    "# show the map\n",
    "m"
   ]
  }
 ],
 "metadata": {
  "kernelspec": {
   "display_name": "gee",
   "language": "python",
   "name": "python3"
  },
  "language_info": {
   "codemirror_mode": {
    "name": "ipython",
    "version": 3
   },
   "file_extension": ".py",
   "mimetype": "text/x-python",
   "name": "python",
   "nbconvert_exporter": "python",
   "pygments_lexer": "ipython3",
   "version": "3.10.18"
  }
 },
 "nbformat": 4,
 "nbformat_minor": 2
}
