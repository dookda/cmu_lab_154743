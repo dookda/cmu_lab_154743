{
 "cells": [
  {
   "cell_type": "markdown",
   "metadata": {},
   "source": [
    "# Components of a Class in Python\n",
    "\n",
    "A class in Python is composed of several key components: the class name, attributes, methods, constructor, and optionally, class variables and static methods. Let's explore each component in detail.\n",
    "\n",
    "1. **Class Name**\n",
    "2. **Attributes**\n",
    "3. **Methods**\n",
    "4. **Constructor**\n",
    "5. **Class Variables**\n",
    "6. **Static Methods**\n",
    "7. **Class and Instance Variables**\n",
    "8. **Property Decorators**"
   ]
  },
  {
   "cell_type": "markdown",
   "metadata": {},
   "source": [
    "### 1. Class Name\n",
    "The class name is the identifier for the class and is typically written in CamelCase."
   ]
  },
  {
   "cell_type": "code",
   "execution_count": null,
   "metadata": {},
   "outputs": [],
   "source": [
    "class ClassName:\n",
    "    pass\n"
   ]
  },
  {
   "cell_type": "markdown",
   "metadata": {},
   "source": [
    "### 2. Attributes\n",
    "Attributes are variables that belong to the class. They can be instance attributes or class attributes.\n",
    "\n",
    "**Instance Attributes**: Defined inside the constructor (the `__init__` method)."
   ]
  },
  {
   "cell_type": "code",
   "execution_count": null,
   "metadata": {},
   "outputs": [],
   "source": [
    "class Point:\n",
    "    def __init__(self, x, y):\n",
    "        self.x = x\n",
    "        self.y = y"
   ]
  },
  {
   "cell_type": "markdown",
   "metadata": {},
   "source": [
    "**Class Attributes**: Defined directly inside the class and are shared among all instances."
   ]
  },
  {
   "cell_type": "code",
   "execution_count": null,
   "metadata": {},
   "outputs": [],
   "source": [
    "class Circle:\n",
    "    pi = 3.14\n",
    "\n",
    "    def __init__(self, radius):\n",
    "        self.radius = radius"
   ]
  },
  {
   "cell_type": "markdown",
   "metadata": {},
   "source": [
    "### 3. Methods\n",
    "Methods are functions defined inside a class that describe the behaviors of the objects."
   ]
  },
  {
   "cell_type": "code",
   "execution_count": null,
   "metadata": {},
   "outputs": [],
   "source": [
    "class Point:\n",
    "    def __init__(self, x, y):\n",
    "        self.x = x\n",
    "        self.y = y\n",
    "\n",
    "    def move(self, dx, dy):\n",
    "        self.x += dx\n",
    "        self.y += dy"
   ]
  },
  {
   "cell_type": "markdown",
   "metadata": {},
   "source": [
    "### 4. Constructor\n",
    "The constructor (`__init__` method) is a special method that is called when an object is instantiated. It initializes the object's attributes."
   ]
  },
  {
   "cell_type": "code",
   "execution_count": null,
   "metadata": {},
   "outputs": [],
   "source": [
    "class Point:\n",
    "    def __init__(self, x, y):\n",
    "        self.x = x\n",
    "        self.y = y"
   ]
  },
  {
   "cell_type": "markdown",
   "metadata": {},
   "source": [
    "### 5. Class Variables\n",
    "Class variables are shared among all instances of a class."
   ]
  },
  {
   "cell_type": "code",
   "execution_count": null,
   "metadata": {},
   "outputs": [],
   "source": [
    "class Circle:\n",
    "    pi = 3.14\n",
    "\n",
    "    def __init__(self, radius):\n",
    "        self.radius = radius"
   ]
  },
  {
   "cell_type": "markdown",
   "metadata": {},
   "source": [
    "### 6. Static Methods\n",
    "Static methods are methods that belong to the class rather than any object instance. They do not modify the state of the object or class."
   ]
  },
  {
   "cell_type": "code",
   "execution_count": null,
   "metadata": {},
   "outputs": [],
   "source": [
    "class Math:\n",
    "    @staticmethod\n",
    "    def add(a, b):\n",
    "        return a + b\n",
    "\n",
    "print(Math.add(5, 3))"
   ]
  },
  {
   "cell_type": "markdown",
   "metadata": {},
   "source": [
    "### 7. Class and Instance Variables\n",
    "**Instance Variables**: Unique to each instance.\n",
    "**Class Variables**: Shared among all instances."
   ]
  },
  {
   "cell_type": "code",
   "execution_count": null,
   "metadata": {},
   "outputs": [],
   "source": [
    "class Dog:\n",
    "    species = \"Canis familiaris\"\n",
    "\n",
    "    def __init__(self, name, age):\n",
    "        self.name = name\n",
    "        self.age = age\n",
    "\n",
    "dog1 = Dog(\"Buddy\", 5)\n",
    "dog2 = Dog(\"Lucy\", 3)\n",
    "\n",
    "print(dog1.species)\n",
    "print(dog2.species)"
   ]
  },
  {
   "cell_type": "markdown",
   "metadata": {},
   "source": [
    "### 8. Property Decorators\n",
    "Property decorators allow for controlled access to instance variables. They are used to create getter, setter, and deleter functions."
   ]
  },
  {
   "cell_type": "code",
   "execution_count": null,
   "metadata": {},
   "outputs": [],
   "source": [
    "class Circle:\n",
    "    def __init__(self, radius):\n",
    "        self._radius = radius\n",
    "\n",
    "    @property\n",
    "    def radius(self):\n",
    "        return self._radius\n",
    "\n",
    "    @radius.setter\n",
    "    def radius(self, value):\n",
    "        if value >= 0:\n",
    "            self._radius = value\n",
    "        else:\n",
    "            raise ValueError(\"Radius must be non-negative\")\n",
    "\n",
    "circle = Circle(5)\n",
    "print(circle.radius)\n",
    "circle.radius = 10\n",
    "print(circle.radius)"
   ]
  },
  {
   "cell_type": "markdown",
   "metadata": {},
   "source": [
    "### Example: Geoinformatics Class\n",
    "Let's create a class for handling geospatial points with all these components."
   ]
  },
  {
   "cell_type": "code",
   "execution_count": null,
   "metadata": {},
   "outputs": [],
   "source": [
    "class GeoPoint:\n",
    "    earth_radius = 6371  # Class variable representing the Earth's radius in kilometers\n",
    "\n",
    "    def __init__(self, latitude, longitude):\n",
    "        self.latitude = latitude  # Instance variable\n",
    "        self.longitude = longitude  # Instance variable\n",
    "\n",
    "    def move(self, dlat, dlon):\n",
    "        \"\"\"Instance method to move the point.\"\"\"\n",
    "        self.latitude += dlat\n",
    "        self.longitude += dlon\n",
    "\n",
    "    @staticmethod\n",
    "    def distance(lat1, lon1, lat2, lon2):\n",
    "        \"\"\"Static method to calculate distance between two points.\"\"\"\n",
    "        from math import radians, sin, cos, sqrt, atan2\n",
    "        dlat = radians(lat2 - lat1)\n",
    "        dlon = radians(lon2 - lon1)\n",
    "        a = sin(dlat / 2) ** 2 + cos(radians(lat1)) * cos(radians(lat2)) * sin(dlon / 2) ** 2\n",
    "        c = 2 * atan2(sqrt(a), sqrt(1 - a))\n",
    "        return GeoPoint.earth_radius * c\n",
    "\n",
    "    @property\n",
    "    def location(self):\n",
    "        \"\"\"Property to get the location as a tuple.\"\"\"\n",
    "        return (self.latitude, self.longitude)\n",
    "\n",
    "    @location.setter\n",
    "    def location(self, loc):\n",
    "        \"\"\"Setter property to set the location.\"\"\"\n",
    "        self.latitude, self.longitude = loc\n",
    "\n",
    "# Example usage\n",
    "point = GeoPoint(45.0, -93.0)\n",
    "print(point.location)\n",
    "point.move(1.0, 1.0)\n",
    "print(point.location)\n",
    "print(GeoPoint.distance(45.0, -93.0, 46.0, -92.0))"
   ]
  }
 ],
 "metadata": {
  "language_info": {
   "name": "python"
  }
 },
 "nbformat": 4,
 "nbformat_minor": 2
}
