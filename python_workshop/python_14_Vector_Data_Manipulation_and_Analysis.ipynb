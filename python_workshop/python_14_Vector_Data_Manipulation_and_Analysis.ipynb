{
 "cells": [
  {
   "cell_type": "code",
   "execution_count": null,
   "metadata": {},
   "outputs": [],
   "source": [
    "# Install GeoPandas (run this cell only if GeoPandas is not already installed)\n",
    "# !pip install geopandas\n",
    "import geopandas as gpd\n",
    "import matplotlib.pyplot as plt"
   ]
  },
  {
   "cell_type": "code",
   "execution_count": null,
   "metadata": {},
   "outputs": [],
   "source": [
    "# Loading vector data (Shapefile and GeoJSON)\n",
    "def load_vector_data():\n",
    "    gdf_shapefile = gpd.read_file('./vector_lab_data/mea_on_32647.shp')\n",
    "    gdf_geojson = gpd.read_file('./vector_lab_data/geo_str_32647.geojson')\n",
    "    return gdf_shapefile, gdf_geojson"
   ]
  },
  {
   "cell_type": "code",
   "execution_count": null,
   "metadata": {},
   "outputs": [],
   "source": [
    "# Load example data\n",
    "gdf_shapefile, gdf_geojson = load_vector_data()"
   ]
  },
  {
   "cell_type": "code",
   "execution_count": null,
   "metadata": {},
   "outputs": [],
   "source": [
    "# Basic data exploration\n",
    "def explore_data(gdf):\n",
    "    print(gdf.head())\n",
    "    print(gdf.describe())\n",
    "    gdf.plot()\n",
    "    plt.show()"
   ]
  },
  {
   "cell_type": "code",
   "execution_count": null,
   "metadata": {},
   "outputs": [],
   "source": [
    "# Explore the data\n",
    "explore_data(gdf_shapefile)"
   ]
  },
  {
   "cell_type": "code",
   "execution_count": null,
   "metadata": {},
   "outputs": [],
   "source": [
    "# Geometric operations\n",
    "def geometric_operations(gdf):\n",
    "    gdf['centroid'] = gdf['geometry'].centroid\n",
    "    gdf['buffer'] = gdf['geometry'].buffer(1000)\n",
    "    gdf['area'] = gdf['geometry'].area\n",
    "    return gdf"
   ]
  },
  {
   "cell_type": "code",
   "execution_count": null,
   "metadata": {},
   "outputs": [],
   "source": [
    "# Perform geometric operations\n",
    "gdf_with_operations = geometric_operations(gdf_shapefile)\n",
    "\n",
    "print(gdf_with_operations.head())"
   ]
  },
  {
   "cell_type": "code",
   "execution_count": null,
   "metadata": {},
   "outputs": [],
   "source": [
    "# display the data\n",
    "gdf_with_operations.plot()\n",
    "plt.show()\n",
    "\n",
    "# display centroid\n",
    "gdf_with_operations['centroid'].plot()\n",
    "plt.show()\n",
    "\n",
    "# display buffer\n",
    "gdf_with_operations['buffer'].plot()\n",
    "plt.show()\n"
   ]
  },
  {
   "cell_type": "code",
   "execution_count": null,
   "metadata": {},
   "outputs": [],
   "source": [
    "# Spatial relationships\n",
    "def spatial_relationships(gdf1, gdf2):\n",
    "    union_gdf2 = gdf2.union_all()\n",
    "    intersects = gdf1.intersects(union_gdf2)\n",
    "    within = gdf1.within(union_gdf2)\n",
    "    contains = gdf1.contains(union_gdf2)\n",
    "    return intersects, within, contains\n"
   ]
  },
  {
   "cell_type": "code",
   "execution_count": null,
   "metadata": {},
   "outputs": [],
   "source": [
    "explore_data(gdf_geojson)"
   ]
  },
  {
   "cell_type": "code",
   "execution_count": null,
   "metadata": {},
   "outputs": [],
   "source": [
    "# Perform spatial relationships analysis\n",
    "intersects, within, contains = spatial_relationships(gdf_geojson, gdf_shapefile)\n",
    "\n",
    "# Display the results\n",
    "print(intersects)\n",
    "print(within)\n",
    "print(contains)"
   ]
  },
  {
   "cell_type": "code",
   "execution_count": null,
   "metadata": {},
   "outputs": [],
   "source": [
    "# print(gdf_shapefile[intersects])\n",
    "\n",
    "# plot the data\n",
    "gdf_geojson[within].plot()\n",
    "plt.show()"
   ]
  },
  {
   "cell_type": "code",
   "execution_count": null,
   "metadata": {},
   "outputs": [],
   "source": [
    "# Data manipulation\n",
    "def manipulate_data(gdf):\n",
    "    gdf['new_column'] = gdf['geometry'].area\n",
    "    gdf_filtered = gdf[gdf['new_column'] > 1000]\n",
    "    return gdf_filtered"
   ]
  },
  {
   "cell_type": "code",
   "execution_count": null,
   "metadata": {},
   "outputs": [],
   "source": [
    "# Manipulate the data\n",
    "gdf_filtered = manipulate_data(gdf_shapefile)\n",
    "\n",
    "# Display hdf filtered\n",
    "print(gdf_filtered.head())"
   ]
  },
  {
   "cell_type": "code",
   "execution_count": null,
   "metadata": {},
   "outputs": [],
   "source": [
    "# Spatial joins\n",
    "def spatial_joins(gdf1, gdf2):\n",
    "    gdf_joined = gpd.sjoin(gdf1, gdf2, how='inner', predicate='intersects')\n",
    "    return gdf_joined"
   ]
  },
  {
   "cell_type": "code",
   "execution_count": null,
   "metadata": {},
   "outputs": [],
   "source": [
    "# Perform spatial joins\n",
    "gdf_joined = spatial_joins(gdf_shapefile, gdf_geojson)"
   ]
  },
  {
   "cell_type": "code",
   "execution_count": null,
   "metadata": {},
   "outputs": [],
   "source": [
    "print(gdf_joined.columns)\n",
    "print(gdf_joined.head())"
   ]
  },
  {
   "cell_type": "code",
   "execution_count": null,
   "metadata": {},
   "outputs": [],
   "source": [
    "# Coordinate Reference Systems (CRS)\n",
    "def set_crs(gdf, crs=\"EPSG:32647\"):\n",
    "    gdf = gdf.set_crs(crs)\n",
    "    return gdf"
   ]
  },
  {
   "cell_type": "code",
   "execution_count": null,
   "metadata": {},
   "outputs": [],
   "source": [
    "def reproject_crs(gdf, crs=\"EPSG:3857\"):\n",
    "    gdf = gdf.to_crs(crs)\n",
    "    return gdf"
   ]
  },
  {
   "cell_type": "code",
   "execution_count": null,
   "metadata": {},
   "outputs": [],
   "source": [
    "# Set and reproject CRS\n",
    "gdf_crs_set = set_crs(gdf_shapefile)\n",
    "gdf_reprojected = reproject_crs(gdf_shapefile, \"EPSG:4326\")\n",
    "\n",
    "# Display CRS\n",
    "print(gdf_crs_set.crs)\n",
    "print(gdf_reprojected.crs)"
   ]
  },
  {
   "cell_type": "code",
   "execution_count": null,
   "metadata": {},
   "outputs": [],
   "source": [
    "# Saving data\n",
    "def save_data(gdf, filepath, driver=\"ESRI Shapefile\"):\n",
    "    gdf.to_file(filepath, driver=driver)"
   ]
  },
  {
   "cell_type": "code",
   "execution_count": null,
   "metadata": {},
   "outputs": [],
   "source": [
    "# remove columns\n",
    "gdf_shapefile = gdf_shapefile.drop(columns=['centroid'])\n",
    "\n",
    "print(gdf_shapefile.head())"
   ]
  },
  {
   "cell_type": "code",
   "execution_count": null,
   "metadata": {},
   "outputs": [],
   "source": [
    "# Save the data as a shapefile\n",
    "save_data(gdf_shapefile, 'output_file.shp')\n",
    "\n",
    "# Save the data as a GeoJSON file\n",
    "save_data(gdf_shapefile, 'output_file.geojson', driver=\"GeoJSON\")"
   ]
  },
  {
   "cell_type": "code",
   "execution_count": null,
   "metadata": {},
   "outputs": [],
   "source": [
    "# Practical examples\n",
    "def create_buffer(gdf, distance=10):\n",
    "    gdf['buffer'] = gdf['geometry'].buffer(distance)\n",
    "    return gdf"
   ]
  },
  {
   "cell_type": "code",
   "execution_count": null,
   "metadata": {},
   "outputs": [],
   "source": [
    "def find_intersections(gdf1, gdf2):\n",
    "    intersections = gpd.overlay(gdf1, gdf2, how='intersection')\n",
    "    return intersections"
   ]
  },
  {
   "cell_type": "code",
   "execution_count": null,
   "metadata": {},
   "outputs": [],
   "source": [
    "def calculate_areas(gdf):\n",
    "    gdf['area'] = gdf['geometry'].area\n",
    "    return gdf"
   ]
  },
  {
   "cell_type": "code",
   "execution_count": null,
   "metadata": {},
   "outputs": [],
   "source": [
    "# Practical examples\n",
    "gdf_buffer = create_buffer(gdf_shapefile)\n",
    "gdf_intersections = find_intersections(gdf_shapefile, gdf_geojson)\n",
    "gdf_areas = calculate_areas(gdf_geojson)\n",
    "\n",
    "# display the data\n",
    "gdf_buffer.plot()\n",
    "plt.show()\n",
    "\n",
    "# display the data\n",
    "# gdf_intersections.plot()\n",
    "# plt.show()\n",
    "\n",
    "# display area data\n",
    "print(gdf_areas.head())\n"
   ]
  },
  {
   "cell_type": "code",
   "execution_count": null,
   "metadata": {},
   "outputs": [],
   "source": [
    "# Advanced analysis\n",
    "def overlay_operations(gdf1, gdf2, operation='union'):\n",
    "    gdf_overlay = gpd.overlay(gdf1, gdf2, how=operation)\n",
    "    return gdf_overlay"
   ]
  },
  {
   "cell_type": "code",
   "execution_count": null,
   "metadata": {},
   "outputs": [],
   "source": [
    "# Advanced analysis\n",
    "gdf_overlay = overlay_operations(gdf_shapefile, gdf_geojson)\n",
    "\n",
    "# display the data\n",
    "gdf_overlay.plot()\n",
    "plt.show()"
   ]
  },
  {
   "cell_type": "code",
   "execution_count": null,
   "metadata": {},
   "outputs": [],
   "source": [
    "# Visualization\n",
    "def plot_data(gdf):\n",
    "    gdf.plot()\n",
    "    plt.show()"
   ]
  },
  {
   "cell_type": "code",
   "execution_count": null,
   "metadata": {},
   "outputs": [],
   "source": [
    "def customize_plot(gdf, color='blue', title='Geopandas Plot'):\n",
    "    ax = gdf.plot(color=color)\n",
    "    plt.title(title)\n",
    "    plt.show()"
   ]
  },
  {
   "cell_type": "code",
   "execution_count": null,
   "metadata": {},
   "outputs": [],
   "source": [
    "# Visualization\n",
    "plot_data(gdf_shapefile)\n",
    "customize_plot(gdf_shapefile, color='green', title='Customized Plot')"
   ]
  },
  {
   "cell_type": "code",
   "execution_count": null,
   "metadata": {},
   "outputs": [],
   "source": [
    "# Case Study (Example code for case study analysis)\n",
    "def case_study_analysis(gdf1, gdf2):\n",
    "    # This is a placeholder for the case study analysis code\n",
    "    # Example: Merging data and calculating new metrics\n",
    "    gdf_merged = gpd.sjoin(gdf1, gdf2, how='inner', op='intersects')\n",
    "    gdf_merged['new_metric'] = gdf_merged['attribute1'] / gdf_merged['attribute2']\n",
    "    return gdf_merged"
   ]
  }
 ],
 "metadata": {
  "kernelspec": {
   "display_name": "geo",
   "language": "python",
   "name": "python3"
  },
  "language_info": {
   "codemirror_mode": {
    "name": "ipython",
    "version": 3
   },
   "file_extension": ".py",
   "mimetype": "text/x-python",
   "name": "python",
   "nbconvert_exporter": "python",
   "pygments_lexer": "ipython3",
   "version": "3.12.2"
  }
 },
 "nbformat": 4,
 "nbformat_minor": 2
}
