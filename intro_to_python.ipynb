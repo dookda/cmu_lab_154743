{
 "cells": [
  {
   "cell_type": "code",
   "execution_count": 2,
   "metadata": {},
   "outputs": [
    {
     "name": "stdout",
     "output_type": "stream",
     "text": [
      "hello world\n"
     ]
    }
   ],
   "source": [
    "print(\"hello world\")"
   ]
  },
  {
   "cell_type": "code",
   "execution_count": null,
   "metadata": {},
   "outputs": [],
   "source": [
    "# global variable\n",
    "x = \"duck\"\n",
    "print(x)\n",
    "def show_x():\n",
    "    # local variable\n",
    "    # global x\n",
    "    x = \"rabbit\"\n",
    "    x = \"bird\"\n",
    "    print(x)\n",
    "# call function\n",
    "show_x()\n",
    "print(x)\n",
    "x= \"fish\"\n",
    "print(x)\n",
    "# print(y)"
   ]
  },
  {
   "attachments": {},
   "cell_type": "markdown",
   "metadata": {},
   "source": [
    "ทดลองการสร้างตัวแปร\n",
    "a = 10"
   ]
  },
  {
   "cell_type": "code",
   "execution_count": 20,
   "metadata": {},
   "outputs": [
    {
     "name": "stdout",
     "output_type": "stream",
     "text": [
      "5 <class 'int'>\n",
      "hello <class 'str'>\n",
      "5.5 <class 'float'>\n",
      "True <class 'bool'>\n"
     ]
    }
   ],
   "source": [
    "_number = 5\n",
    "print(_number, type(_number))\n",
    "\n",
    "_text = \"hello\"\n",
    "print(_text, type(_text))\n",
    "\n",
    "_float = 5.5\n",
    "print(_float, type(_float))\n",
    "\n",
    "_boolean = True\n",
    "print(_boolean, type(_boolean))"
   ]
  },
  {
   "cell_type": "code",
   "execution_count": 6,
   "metadata": {},
   "outputs": [
    {
     "name": "stdout",
     "output_type": "stream",
     "text": [
      "{'dustboy_id': '6513', 'dustboy_uri': 'nongsanom', 'dustboy_alias': 'TPlus413', 'dustboy_name_th': 'รพ.สต.หนองสนม', 'dustboy_name_en': 'Nong Sanom Health Promoting Hospital', 'dustboy_lat': '17.28843659', 'dustboy_lng': '104.1429233', 'dustboy_status': '1', 'dustboy_pv': '23', 'dustboy_version': 'mini', 'db_email': '', 'db_co': 'นางสาวทฤตมน ทองเรือง', 'db_mobile': '091-0136493', 'db_addr': '', 'db_status': '0', 'db_model': 'T-Plus'}\n"
     ]
    }
   ],
   "source": [
    "import requests\n",
    "import json\n",
    "\n",
    "response = requests.get('https://www.cmuccdc.org/api/ccdc/stations')\n",
    "# print(response.status_code)\n",
    "# print(response.text)\n",
    "\n",
    "data = json.loads(response.text)\n",
    "print(data[0])\n"
   ]
  }
 ],
 "metadata": {
  "kernelspec": {
   "display_name": "base",
   "language": "python",
   "name": "python3"
  },
  "language_info": {
   "codemirror_mode": {
    "name": "ipython",
    "version": 3
   },
   "file_extension": ".py",
   "mimetype": "text/x-python",
   "name": "python",
   "nbconvert_exporter": "python",
   "pygments_lexer": "ipython3",
   "version": "3.10.9"
  },
  "orig_nbformat": 4
 },
 "nbformat": 4,
 "nbformat_minor": 2
}
