{
 "cells": [
  {
   "cell_type": "code",
   "execution_count": 11,
   "metadata": {},
   "outputs": [
    {
     "name": "stdout",
     "output_type": "stream",
     "text": [
      "C+\n"
     ]
    }
   ],
   "source": [
    "score_str = input(\"กรอกคะแนนที่ได้: \")\n",
    "\n",
    "# print(type(score))\n",
    "score = int(score_str)\n",
    "\n",
    "if score > 80:\n",
    "    print(\"A\")\n",
    "elif score >= 75:\n",
    "    print(\"B+\")\n",
    "elif score >= 70:\n",
    "    print(\"B\")\n",
    "elif score >= 65:\n",
    "    print(\"C+\")\n",
    "elif score >= 60:\n",
    "    print(\"C\")\n",
    "else:\n",
    "    print(\"D\")"
   ]
  }
 ],
 "metadata": {
  "kernelspec": {
   "display_name": "base",
   "language": "python",
   "name": "python3"
  },
  "language_info": {
   "codemirror_mode": {
    "name": "ipython",
    "version": 3
   },
   "file_extension": ".py",
   "mimetype": "text/x-python",
   "name": "python",
   "nbconvert_exporter": "python",
   "pygments_lexer": "ipython3",
   "version": "3.10.9"
  },
  "orig_nbformat": 4
 },
 "nbformat": 4,
 "nbformat_minor": 2
}
