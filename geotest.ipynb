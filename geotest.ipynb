{
 "cells": [
  {
   "cell_type": "code",
   "execution_count": null,
   "metadata": {},
   "outputs": [],
   "source": [
    "import geomodule as gm\n",
    "# from geomodule import greeting as g\n",
    "\n",
    "print(gm.person[\"name\"])\n",
    "\n",
    "print(dir(gm))\n",
    "\n",
    "print(gm.get_person_name())\n",
    "print(gm.get_person_age())\n",
    "\n",
    "\n"
   ]
  },
  {
   "cell_type": "code",
   "execution_count": null,
   "metadata": {},
   "outputs": [],
   "source": [
    "import pandas as pd\n",
    "\n",
    "print(dir(pd))\n",
    "\n"
   ]
  },
  {
   "cell_type": "code",
   "execution_count": 27,
   "metadata": {},
   "outputs": [],
   "source": [
    "class Point:\n",
    "    def __init__(self, x=0, y=0, name=\"\"):\n",
    "        self.x = x\n",
    "        self.y = y\n",
    "        self.name = name\n",
    "    \n",
    "    def get_x(self):\n",
    "        self._result = self.x\n",
    "        return self\n",
    "    \n",
    "    def get_y(self):\n",
    "        self._result = self.y\n",
    "        return self\n",
    "    \n",
    "    def get_name(self):\n",
    "        self._result = self.name\n",
    "        return self\n",
    "    \n",
    "    def getInfo(self):\n",
    "        try :\n",
    "            return self._result\n",
    "        except:\n",
    "            return \"No result\"\n",
    "    \n",
    "    def asGeoJson(self):\n",
    "        return {\n",
    "            \"type\": \"Point\",\n",
    "            \"coordinates\": [self.x, self.y]\n",
    "        }\n"
   ]
  },
  {
   "cell_type": "code",
   "execution_count": 30,
   "metadata": {},
   "outputs": [
    {
     "name": "stdout",
     "output_type": "stream",
     "text": [
      "3 4 geo\n",
      "3 4 geo\n"
     ]
    }
   ],
   "source": [
    "pnt = Point(3, 4, \"geo\")\n",
    "\n",
    "print(pnt.x, pnt.y, pnt.name)\n",
    "print(pnt.get_x().getInfo(), \\\n",
    "        pnt.get_y().getInfo(), \\\n",
    "        pnt.get_name().getInfo())"
   ]
  },
  {
   "cell_type": "code",
   "execution_count": 58,
   "metadata": {},
   "outputs": [],
   "source": [
    "import math\n",
    "class Polyline:\n",
    "    def __init__(self, agrs):\n",
    "        self.points = agrs\n",
    "        print(self.points[0].x, self.points[0].y)\n",
    "    \n",
    "    def get_points(self):\n",
    "        self._result = self.points\n",
    "        return self\n",
    "\n",
    "    def get_length(self):\n",
    "        # √((x2 – x1)² + (y2 – y1)²)\n",
    "        length = 0\n",
    "        for i in range(len(self.points) - 1):\n",
    "            x1, y1 = self.points[i].x, self.points[i].y\n",
    "            x2, y2 = self.points[i+1].x, self.points[i+1].y\n",
    "            length += math.sqrt((x2 - x1)**2 + (y2 - y1)**2)\n",
    "\n",
    "        self._result = length\n",
    "        return self\n",
    "\n",
    "    def getInfo(self):\n",
    "        try :\n",
    "            return self._result\n",
    "        except:\n",
    "            return \"No result\"\n",
    "        \n",
    "    "
   ]
  },
  {
   "cell_type": "code",
   "execution_count": 1,
   "metadata": {},
   "outputs": [
    {
     "name": "stdout",
     "output_type": "stream",
     "text": [
      "1 2.6\n",
      "{'type': 'Point', 'coordinates': [1, 2.6]}\n",
      "{'type': 'Point', 'coordinates': [3, 4.4]}\n",
      "{'type': 'Point', 'coordinates': [5, 6.5]}\n"
     ]
    }
   ],
   "source": [
    "# import geomodule as gm\n",
    "from geomodule import Point, Polyline\n",
    "line = Polyline([Point(1, 2.6,\"a\"), Point(3, 4.4, \"b\"), Point(5, 6.5, \"c\")])\n",
    "\n",
    "a = line.get_points()\n",
    "for i in a.getInfo():\n",
    "    print(i.asGeoJson())\n",
    "\n",
    "# print(line.get_length().getInfo())"
   ]
  }
 ],
 "metadata": {
  "kernelspec": {
   "display_name": "base",
   "language": "python",
   "name": "python3"
  },
  "language_info": {
   "codemirror_mode": {
    "name": "ipython",
    "version": 3
   },
   "file_extension": ".py",
   "mimetype": "text/x-python",
   "name": "python",
   "nbconvert_exporter": "python",
   "pygments_lexer": "ipython3",
   "version": "3.11.4"
  }
 },
 "nbformat": 4,
 "nbformat_minor": 2
}
